{
 "cells": [
  {
   "cell_type": "markdown",
   "id": "recent-bunch",
   "metadata": {},
   "source": [
    "# SAC (Soft Actor-Critic)\n",
    "\n",
    "SAC (Soft Actor-Critic) is one of today's popular algorithm, which is based on **off-policy** DDPG discussed in [here](./05-ddpg.ipynb).<br>\n",
    "However, unlike DDPG, SAC applies entropy regularization and trains a stochastic policy, not a deterministic policy.\n",
    "\n",
    "Entropy is defined as $ H(P) = -\\int P(x) \\log P(x) = E_x[-\\log P(x)] $ and it how it's distributed.<br>\n",
    "For instance, if it has 8 possible states, each of which is equally likely in discrete distribution, it will have $ H(P) = -\\sum P(x) \\log P(x) = -8 \\times \\frac{1}{8} \\log_2 \\frac{1}{8} = 3 $. (This implies that it needs 3 bits evenly.) If the distribution is $ (\\frac{1}{2}, \\frac{1}{4}, \\frac{1}{8}, \\frac{1}{16}, \\frac{1}{64}, \\frac{1}{64}, \\frac{1}{64}, \\frac{1}{64}) $, it will have $ H(P) = -\\frac{1}{2} \\log_2 \\frac{1}{2} - \\frac{1}{4} \\log_2 \\frac{1}{4} - \\frac{1}{8} \\log_2 \\frac{1}{8} - \\frac{1}{16} \\log_2 \\frac{1}{16} - 4 \\times \\frac{1}{64} \\log_2 \\frac{1}{64} = 2 $.<br>\n",
    "(Note that, for simplicity, I have replaced the base of logarithm with 2.)<br>\n",
    "\n",
    "Entropy will be larger, when the distribution has much randomness.\n",
    "\n",
    "> Note : In continuous distribution, it's known that the distribution that maximizes the entropy is Gaussian distribution. Here I don't go detail, but KL-divergence (the penalty for large updates) discussed in [PPO](./04-ppo.ipynb) is closely related with this entropy term.\n",
    "\n",
    "Instead of a reward expectation $ r_t + \\gamma (d_t - 1) Q_{{\\phi}^{\\prime}} $ used in DDPG, SAC will apply $ r_t + \\gamma (d_t - 1) (Q_{{\\phi}^{\\prime}} + \\alpha H(P)) $ (where $\\alpha$ is a coefficient parameter for entropy weight) in order to balance between exploitation and exploration.\n",
    "\n",
    "*(back to [index](https://github.com/tsmatz/reinforcement-learning-tutorials/))*"
   ]
  },
  {
   "cell_type": "code",
   "execution_count": null,
   "id": "49fc83ba",
   "metadata": {},
   "outputs": [],
   "source": [
    "!pip install numpy gym　tensorflow==2.4 matplotlib"
   ]
  },
  {
   "cell_type": "code",
   "execution_count": 1,
   "id": "aa81765d",
   "metadata": {},
   "outputs": [],
   "source": [
    "import random\n",
    "import gym\n",
    "import numpy as np\n",
    "import tensorflow as tf"
   ]
  },
  {
   "cell_type": "markdown",
   "id": "126dd724",
   "metadata": {},
   "source": [
    "Unlike [DDPG](./05-ddpg.ipynb), we can use discrete action space in SAC. (See below for reasons.)"
   ]
  },
  {
   "cell_type": "code",
   "execution_count": 2,
   "id": "2c8bc368",
   "metadata": {},
   "outputs": [],
   "source": [
    "env = gym.make(\"CartPole-v0\")"
   ]
  },
  {
   "cell_type": "markdown",
   "id": "7385715b",
   "metadata": {},
   "source": [
    "Unlike DDPG, SAC trains a stochastic policy $ \\pi_{\\theta}(\\cdot) $ (where $ \\theta $ is parameters) instead of a deterministic policy $ \\mu_{\\theta}(\\cdot) $. (And we don't use target policy network $ \\pi_{\\theta^{\\prime}} $.)<br>\n",
    "In this example, I set a policy $ P(\\cdot | \\pi_\\theta(s)) $ as a categorical distribution (same as, used in [policy gradient](./02-policy-gradient.ipynb) and [PPO](./04-ppo.ipynb) example), because it's discrete action space:\n",
    "\n",
    "> Note : For the bounded continuous action space between $ l $ and $ h $, use Gaussian distribution as follows.<br>\n",
    "> $ P(\\cdot | \\pi_\\theta(s)) = ((tanh(\\mathcal{N}(\\mu_{\\theta}(s), \\sigma_{\\theta}(s))) + 1.0) / 2.0) \\times (h - l) + l  $\n",
    "\n",
    "Because we use a stochastic policy, we don't then need Ornstein-Uhlenbeck noise used in [DDPG](./05-ddpg.ipynb)."
   ]
  },
  {
   "cell_type": "code",
   "execution_count": 3,
   "id": "a933a221",
   "metadata": {},
   "outputs": [],
   "source": [
    "# origin policy net (pi_theta)\n",
    "s_input_actor = tf.keras.layers.Input(shape=(4, ))\n",
    "last_actor = tf.keras.layers.Dense(64,activation='relu')(s_input_actor)\n",
    "output_actor = tf.keras.layers.Dense(2,activation=None)(last_actor)\n",
    "pi_model = tf.keras.Model([s_input_actor], output_actor)\n",
    "\n",
    "# pick up action\n",
    "def pick_sample(s):\n",
    "    logits = pi_model(tf.cast(np.array([s]), tf.float32))\n",
    "    sample_t = tf.random.categorical(logits, 1)\n",
    "    sample_t = tf.squeeze(sample_t, axis=1)\n",
    "    return int(sample_t.numpy()[0])"
   ]
  },
  {
   "cell_type": "markdown",
   "id": "6845f8cf",
   "metadata": {},
   "source": [
    "Same as DDPG with clipped double-Q (see [here](./05-ddpg.ipynb)), we use 2 Q-networks - $ Q_{\\phi_1}(s), Q_{\\phi_2}(s) $ - and corresponding 2 target networks - $ Q_{\\phi_1^{\\prime}}(s), Q_{\\phi_2^{\\prime}}(s) $.\n",
    "\n",
    "You will find that this is different from the one used in [DDPG](./05-ddpg.ipynb).<br>\n",
    "For categorical distribution with the depth n (in this example, n=2), the output of $ Q(\\cdot) $ is n-dimensional tensor, in which each element represents the expectation of Q-value for the corresponding action. And we use $ Q(s) \\cdot \\tilde{a} $ (i.e, dot product) instead of $ Q(s, a) $, where $ \\tilde{a} $ is one hot tensor for action $ a $."
   ]
  },
  {
   "cell_type": "code",
   "execution_count": 4,
   "id": "0cd5bb8e",
   "metadata": {},
   "outputs": [],
   "source": [
    "# origin Q net 1 (Q_phi1)\n",
    "s_input_critic1 = tf.keras.layers.Input(shape=(4, ))\n",
    "last_critic1 = tf.keras.layers.Dense(64,activation='relu')(s_input_critic1)\n",
    "output_critic1 = tf.keras.layers.Dense(2,activation=None)(last_critic1)\n",
    "q_model1 = tf.keras.Model([s_input_critic1], output_critic1)\n",
    "\n",
    "# origin Q net 2 (Q_phi2)\n",
    "s_input_critic2 = tf.keras.layers.Input(shape=(4, ))\n",
    "last_critic2 = tf.keras.layers.Dense(64,activation='relu')(s_input_critic2)\n",
    "output_critic2 = tf.keras.layers.Dense(2,activation=None)(last_critic2)\n",
    "q_model2 = tf.keras.Model([s_input_critic2], output_critic2)\n",
    "\n",
    "# target Q net 1 (Q_phi1')\n",
    "s_input_critic_tg1 = tf.keras.layers.Input(shape=(4, ))\n",
    "last_critic_tg1 = tf.keras.layers.Dense(64,activation='relu')(s_input_critic_tg1)\n",
    "output_critic_tg1 = tf.keras.layers.Dense(2,activation=None)(last_critic_tg1)\n",
    "q_tg_model1 = tf.keras.Model([s_input_critic_tg1], output_critic_tg1)\n",
    "\n",
    "# target Q net 2 (Q_phi2')\n",
    "s_input_critic_tg2 = tf.keras.layers.Input(shape=(4, ))\n",
    "last_critic_tg2 = tf.keras.layers.Dense(64,activation='relu')(s_input_critic_tg2)\n",
    "output_critic_tg2 = tf.keras.layers.Dense(2,activation=None)(last_critic_tg2)\n",
    "q_tg_model2 = tf.keras.Model([s_input_critic_tg2], output_critic_tg2)"
   ]
  },
  {
   "cell_type": "markdown",
   "id": "61b9c1b5",
   "metadata": {},
   "source": [
    "As we saw in [DDPG with clipped double-Q](./05-ddpg.ipynb), we optimize policy parameter $ \\theta $ to maximize $ Q_{\\phi_1}(s, a^*) + \\alpha H(P(\\cdot | \\pi_\\theta(s))) $ where $ a^* $ is an optimal action.\n",
    "\n",
    "As I have mentioned above, $ H(P) = E_x[-\\log P(x)] $.<br>\n",
    "In this categorical distribution (in discrete action space), $ H $ will be the following dot product :\n",
    "\n",
    "$ H(P) = H(P(\\cdot | \\pi_\\theta(s))) = -\\pi_\\theta(s) \\cdot \\log \\pi_\\theta(s) $\n",
    "\n",
    "where $ \\pi_\\theta(s) $ is one hot probability.\n",
    "\n",
    "For $ Q(s, a^*) $ term, it will become the following dot product. (See above for reason.) :\n",
    "\n",
    "$ Q_{\\phi_1}(s, a^*) = Q_{\\phi_1}(s) \\cdot \\pi_\\theta(s) $\n",
    "\n",
    "To summarize, we should optimize $ \\theta $ to maximize :\n",
    "\n",
    "$ E\\left[ \\pi_\\theta(s) \\cdot Q_{\\phi_1}(s) - \\alpha \\pi_\\theta(s) \\cdot \\log \\pi_\\theta(s) \\right] = E\\left[ \\pi_\\theta(s) \\cdot (Q_{\\phi_1}(s) - \\alpha \\log \\pi_\\theta(s)) \\right] $\n",
    "\n",
    "> Note : Here I used a constant $ \\alpha $, but there exists a variation of SAC, in which $ \\alpha $ is also learned over the course of training."
   ]
  },
  {
   "cell_type": "code",
   "execution_count": 5,
   "id": "af62799c",
   "metadata": {},
   "outputs": [],
   "source": [
    "alpha = 1.0\n",
    "\n",
    "opt = tf.keras.optimizers.Adam(learning_rate=0.0005)\n",
    "\n",
    "class categorical:\n",
    "    def __init__(self, s, training=False):\n",
    "        self.state_t = s\n",
    "        self._logits = pi_model([self.state_t], training=training)\n",
    "        self._logp = tf.nn.log_softmax(self._logits, axis=-1)\n",
    "        self._prob = tf.math.exp(self._logp)\n",
    "\n",
    "    # probability (the sum is 1.0)\n",
    "    def prob(self):\n",
    "        return self._prob\n",
    "\n",
    "    # log probability : log P()\n",
    "    def logp(self):\n",
    "        return self._logp\n",
    "\n",
    "def optimize_theta(states):\n",
    "    states_t = tf.convert_to_tensor(states)\n",
    "\n",
    "    # actor loss\n",
    "    with tf.GradientTape() as tape:\n",
    "        dist = categorical(states_t, training=True)\n",
    "        q1_t = q_model1(states_t, training=True)\n",
    "        actor_loss_t = tf.multiply(\n",
    "            dist.prob(),\n",
    "            tf.stop_gradient(q1_t) - alpha * dist.logp()\n",
    "        )\n",
    "        actor_loss_t = -tf.reduce_sum(actor_loss_t, axis=-1)\n",
    "        actor_loss_t = tf.reduce_mean(actor_loss_t)\n",
    "\n",
    "    # optimize actor\n",
    "    grad_a = tape.gradient(\n",
    "        actor_loss_t,\n",
    "        pi_model.trainable_variables)\n",
    "    opt.apply_gradients(zip(grad_a, pi_model.trainable_variables))"
   ]
  },
  {
   "cell_type": "markdown",
   "id": "120612ed",
   "metadata": {},
   "source": [
    "Same as we saw in [DDPG with clipped double-Q](./05-ddpg.ipynb), we optimize parameter $ \\phi_1, \\phi_2 $ as follows :\n",
    "\n",
    "- Optimize $ \\phi_1 $ to minimize $ E\\left[ \\left( Q_{\\phi_1}(s_t, a_t) - \\left( r_t + \\gamma (d_t - 1) \\left( \\min_{i=1,2} Q_{{\\phi_i}^{\\prime}}(s_{t+1},a^*_{t+1}) + \\alpha H(P(\\cdot | \\pi_\\theta(s_{t+1}))) \\right) \\right) \\right)^2 \\right] $\n",
    "- Optimize $ \\phi_2 $ to minimize $ E\\left[ \\left( Q_{\\phi_2}(s_t, a_t) - \\left( r_t + \\gamma (d_t - 1) \\left( \\min_{i=1,2} Q_{{\\phi_i}^{\\prime}}(s_{t+1},a^*_{t+1}) + \\alpha H(P(\\cdot | \\pi_\\theta(s_{t+1}))) \\right) \\right) \\right)^2 \\right] $\n",
    "\n",
    "in which :\n",
    "\n",
    "- $ Q_{\\phi_i}(s_t, a_t) = Q_{\\phi_i}(s_t) \\cdot \\tilde{a_t} $ where $ \\tilde{a_t} $ is one hot vector of $ a_t $\n",
    "- $ Q_{{\\phi_i}^{\\prime}}(s_{t+1},a^*_{t+1}) =  Q_{\\phi_1}(s_{t+1}) \\cdot \\pi_\\theta(s_{t+1}) $ where $ \\pi_\\theta(s_{t+1}) $ is one hot probability\n",
    "- $ H(P(\\cdot | \\pi_\\theta(s_{t+1}))) = -\\pi_\\theta(s_{t+1}) \\cdot \\log \\pi_\\theta(s_{t+1}) $"
   ]
  },
  {
   "cell_type": "code",
   "execution_count": 6,
   "id": "a5fbac98",
   "metadata": {},
   "outputs": [],
   "source": [
    "gamma = 0.99\n",
    "\n",
    "def optimize_phi(states, actions, rewards, next_states, dones):\n",
    "    states_t      = tf.convert_to_tensor(states)\n",
    "    actions_t     = tf.convert_to_tensor(actions)\n",
    "    rewards_t     = tf.convert_to_tensor(rewards)\n",
    "    next_states_t = tf.convert_to_tensor(next_states)\n",
    "    dones_t       = tf.convert_to_tensor(dones)\n",
    "\n",
    "    # critic loss (Q-network 1)\n",
    "    with tf.GradientTape() as tape:\n",
    "        logits_t = pi_model([next_states_t], training=True)\n",
    "        next_q_tg_t1 = q_tg_model1([next_states_t], training=True)\n",
    "        next_q_tg_t2 = q_tg_model2([next_states_t], training=True)\n",
    "        next_q_tg_t = tf.reduce_min((next_q_tg_t1, next_q_tg_t2), axis=0)\n",
    "        dist_next = categorical(next_states_t, training=True)\n",
    "        next_q_tg_t = next_q_tg_t - alpha * dist_next.logp()\n",
    "        mul_t = tf.multiply(dist_next.prob(), next_q_tg_t)\n",
    "        dot_product_t = tf.reduce_sum(mul_t, axis=-1, keepdims=True)\n",
    "        q_tg_t = tf.stop_gradient(rewards_t + gamma * (1.0 - dones_t) * dot_product_t)\n",
    "\n",
    "        one_hot_t = tf.one_hot(actions_t, depth=2)\n",
    "        one_hot_t = tf.squeeze(one_hot_t, axis=1)\n",
    "        q_t1 = q_model1([states_t], training=True)\n",
    "        q_t1 = tf.reduce_sum(q_t1 * one_hot_t, axis=-1, keepdims=True)\n",
    "        critic_loss_suqares_t1 = tf.math.square(q_t1 - q_tg_t)\n",
    "        critic_loss_t1 = tf.reduce_mean(critic_loss_suqares_t1)\n",
    "\n",
    "    # optimize critic (Q-network 1)\n",
    "    grad_q1 = tape.gradient(\n",
    "        critic_loss_t1,\n",
    "        q_model1.trainable_variables)\n",
    "    opt.apply_gradients(zip(grad_q1, q_model1.trainable_variables))\n",
    "\n",
    "    # critic loss (Q-network 2)\n",
    "    with tf.GradientTape() as tape:\n",
    "        logits_t = pi_model([next_states_t], training=True)\n",
    "        next_q_tg_t1 = q_tg_model1([next_states_t], training=True)\n",
    "        next_q_tg_t2 = q_tg_model2([next_states_t], training=True)\n",
    "        next_q_tg_t = tf.reduce_min((next_q_tg_t1, next_q_tg_t2), axis=0)\n",
    "        dist_next = categorical(next_states_t, training=True)\n",
    "        next_q_tg_t = next_q_tg_t - alpha * dist_next.logp()\n",
    "        mul_t = tf.multiply(dist_next.prob(), next_q_tg_t)\n",
    "        dot_product_t = tf.reduce_sum(mul_t, axis=-1, keepdims=True)\n",
    "        q_tg_t = tf.stop_gradient(rewards_t + gamma * (1.0 - dones_t) * dot_product_t)\n",
    "\n",
    "        one_hot_t = tf.one_hot(actions_t, depth=2)\n",
    "        one_hot_t = tf.squeeze(one_hot_t, axis=1)\n",
    "        q_t2 = q_model2([states_t], training=True)\n",
    "        q_t2 = tf.reduce_sum(q_t2 * one_hot_t, axis=-1, keepdims=True)\n",
    "        critic_loss_suqares_t2 = tf.math.square(q_t2 - q_tg_t)\n",
    "        critic_loss_t2 = tf.reduce_mean(critic_loss_suqares_t2)\n",
    "\n",
    "    # optimize critic (Q-network 2)\n",
    "    grad_q2 = tape.gradient(\n",
    "        critic_loss_t2,\n",
    "        q_model2.trainable_variables)\n",
    "    opt.apply_gradients(zip(grad_q2, q_model2.trainable_variables))"
   ]
  },
  {
   "cell_type": "markdown",
   "id": "b3c8100e",
   "metadata": {},
   "source": [
    "As we saw in [DDPG with clipped double-Q](./05-ddpg.ipynb), target parameters $\\phi_1^{\\prime}, \\phi_2^{\\prime}$ are delayed with coefficient parameter (hyper-parameter) $ \\tau $."
   ]
  },
  {
   "cell_type": "code",
   "execution_count": 7,
   "id": "10bb910b",
   "metadata": {},
   "outputs": [],
   "source": [
    "tau = 0.002\n",
    "\n",
    "def update_target():\n",
    "    for var, var_target in zip(q_model1.variables, q_tg_model1.variables):\n",
    "        var_target.assign(tau * var + (1.0 - tau) * var_target)\n",
    "    for var, var_target in zip(q_model2.variables, q_tg_model2.variables):\n",
    "        var_target.assign(tau * var + (1.0 - tau) * var_target)"
   ]
  },
  {
   "cell_type": "markdown",
   "id": "ddc1f7f1",
   "metadata": {},
   "source": [
    "As we saw in [DDPG](./05-ddpg.ipynb), we use replay buffer to prevent from learning only for recent experiences."
   ]
  },
  {
   "cell_type": "code",
   "execution_count": 8,
   "id": "1172351c",
   "metadata": {},
   "outputs": [],
   "source": [
    "class replayBuffer:\n",
    "    def __init__(self, buffer_size: int):\n",
    "        self.buffer_size = buffer_size\n",
    "        self.buffer = []\n",
    "        self._next_idx = 0\n",
    "\n",
    "    def add(self, item):\n",
    "        if len(self.buffer) > self._next_idx:\n",
    "            self.buffer[self._next_idx] = item\n",
    "        else:\n",
    "            self.buffer.append(item)\n",
    "        if self._next_idx == self.buffer_size - 1:\n",
    "            self._next_idx = 0\n",
    "        else:\n",
    "            self._next_idx = self._next_idx + 1\n",
    "\n",
    "    def sample(self, batch_size):\n",
    "        indices = [random.randint(0, len(self.buffer) - 1) for _ in range(batch_size)]\n",
    "        states   = [self.buffer[i][0] for i in indices]\n",
    "        actions  = [[self.buffer[i][1]] for i in indices]\n",
    "        rewards  = [[self.buffer[i][2]] for i in indices]\n",
    "        n_states = [self.buffer[i][3] for i in indices]\n",
    "        dones    = [[self.buffer[i][4]] for i in indices]\n",
    "        return states, actions, rewards, n_states, dones\n",
    "\n",
    "    def length(self):\n",
    "        return len(self.buffer)\n",
    "\n",
    "buffer = replayBuffer(20000)"
   ]
  },
  {
   "cell_type": "markdown",
   "id": "f3b19a01",
   "metadata": {},
   "source": [
    "Now let's put it all together !"
   ]
  },
  {
   "cell_type": "code",
   "execution_count": 9,
   "id": "fe030199",
   "metadata": {},
   "outputs": [
    {
     "name": "stdout",
     "output_type": "stream",
     "text": [
      "Run episode196 with rewards 200.0\n",
      "Done\n"
     ]
    }
   ],
   "source": [
    "batch_size = 250\n",
    "\n",
    "reward_records = []\n",
    "for i in range(1000):\n",
    "    # Run episode till done\n",
    "    s = env.reset()\n",
    "    done = False\n",
    "    cum_reward = 0\n",
    "    while not done:\n",
    "        a = pick_sample(s)\n",
    "        s_next, r, done, _ = env.step(a)\n",
    "        buffer.add([s, a, r, s_next, float(done)])\n",
    "        cum_reward += r\n",
    "        if buffer.length() >= batch_size:\n",
    "            states, actions, rewards, n_states, dones = buffer.sample(batch_size)\n",
    "            optimize_theta(states)\n",
    "            optimize_phi(states, actions, rewards, n_states, dones)\n",
    "            update_target()\n",
    "        s = s_next\n",
    "\n",
    "    # Output total rewards in episode (max 200)\n",
    "    print(\"Run episode{} with rewards {}\".format(i, cum_reward), end=\"\\r\")\n",
    "    reward_records.append(cum_reward)\n",
    "\n",
    "    # stop if reward mean > 195.0\n",
    "    reward_records_np = np.array(reward_records)\n",
    "    if np.average(reward_records_np[-50:]) > 195.0:\n",
    "        break\n",
    "\n",
    "env.close()\n",
    "print(\"\\nDone\")"
   ]
  },
  {
   "cell_type": "code",
   "execution_count": 10,
   "id": "2e2f3ddc",
   "metadata": {},
   "outputs": [
    {
     "data": {
      "text/plain": [
       "[<matplotlib.lines.Line2D at 0x7fa6e3e485f8>]"
      ]
     },
     "execution_count": 10,
     "metadata": {},
     "output_type": "execute_result"
    },
    {
     "data": {
      "image/png": "[encoded data removed]",
      "text/plain": [
       "<Figure size 432x288 with 1 Axes>"
      ]
     },
     "metadata": {
      "needs_background": "light"
     },
     "output_type": "display_data"
    }
   ],
   "source": [
    "import matplotlib.pyplot as plt\n",
    "# Generate recent 50 interval average\n",
    "reward_records_np = np.array(reward_records)\n",
    "average_reward = []\n",
    "for idx in range(len(reward_records)):\n",
    "    avg_list = np.empty(shape=(1,), dtype=int)\n",
    "    if idx < 50:\n",
    "        avg_list = reward_records_np[:idx+1]\n",
    "    else:\n",
    "        avg_list = reward_records_np[idx-49:idx+1]\n",
    "    average_reward.append(np.average(avg_list))\n",
    "plt.plot(reward_records)\n",
    "plt.plot(average_reward)"
   ]
  },
  {
   "cell_type": "code",
   "execution_count": null,
   "id": "cfc0182d",
   "metadata": {},
   "outputs": [],
   "source": []
  }
 ],
 "metadata": {
  "kernelspec": {
   "display_name": "Python 3",
   "language": "python",
   "name": "python3"
  },
  "language_info": {
   "codemirror_mode": {
    "name": "ipython",
    "version": 3
   },
   "file_extension": ".py",
   "mimetype": "text/x-python",
   "name": "python",
   "nbconvert_exporter": "python",
   "pygments_lexer": "ipython3",
   "version": "3.6.9"
  }
 },
 "nbformat": 4,
 "nbformat_minor": 5
}
