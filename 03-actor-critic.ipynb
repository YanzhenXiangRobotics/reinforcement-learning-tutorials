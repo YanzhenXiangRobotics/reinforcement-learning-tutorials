{
 "cells": [
  {
   "cell_type": "markdown",
   "id": "recent-bunch",
   "metadata": {},
   "source": [
    "# Actor-Critic Method in Reinforcement Learning\n",
    "\n",
    "Many algorithms which has great success in today's reinforcement learning (such as, PPO, SAC, etc) include the idea of actor-critic optimization. Now we'll proceed to the next step from vanilla approach of [on-policy learning](https://github.com/tsmatz/reinforcement-learning-tutorials/blob/master/02-policy-gradient.ipynb) and see the idea of Actor-Critic architecture intuitively.<br>\n",
    "Here I'll show you this architecture in Advantage Actor-Critic (A2C) algorithm. (Actor-Critic architecture can be applied on both on-policy and off-policy. See [DDPG](./05-ddpg.ipynb) for Actor-Critic in off-policy algorithm.)\n",
    "\n",
    "Actor-critic is the mixed approach on both value-based Q-Learning and policy-based method.<br>\n",
    "As we saw in [Q-Learning](https://github.com/tsmatz/reinforcement-learning-tutorials/blob/master/01-q-learning.ipynb), $ Q(s_t,a_t) = r_t + \\gamma \\max_a{Q_t(s_{t+1},a)} $.<br>\n",
    "As you know, $ \\max_a{Q_t(s_{t+1},a)} $ won't depend on action $ a $. Then we can denote $ Q(s_t,a_t) = r_t + \\gamma V(s_{t+1}) $ where $ V(s) $ only depends on state $ s $. This $ V(s) $ is called a value-function.<br>\n",
    "Now we separate $ Q(s_t,a_t) $ into two parts : one is potential value $ V(s_t) $ not depending on $ a_t $, and the other part is $ A(a_t, s_t) $ (which is called **advantage**) depending on $ a_t $ in state $ s_t $. Then it gives :\n",
    "\n",
    "$$ A(a_t, s_t) = r_t + \\gamma V(s_{t+1}) - V(s_t) $$\n",
    "\n",
    "In this method, we generate a value-function (i.e, fcnet, convnet, etc) $ V(s) $ and apply policy gradient for an advantage-function $ A(a, s) $. (It means that we generate 2 functions and optimize parameters.)<br>\n",
    "You can run Actor-Critic based training on both batch processing and non-batch processing. When you run on batch in each episode, you can also estimate advantage $ A_t $ with $ \\sum{\\gamma r} - V(s_t) $. In the middle of episode, you can estimate with $ r_{t} + \\gamma r_{t+1} + \\cdots + \\gamma^{T-1-t} r_{T-1} + \\gamma^{T-t} V(s_T) - V(s_t) $.\n",
    "\n",
    "Remind that we have applied gradient descent (ascent) on $ E\\left[\\sum{\\gamma r}\\right] $ in [vanilla on-policy learning](https://github.com/tsmatz/reinforcement-learning-tutorials/blob/master/02-policy-gradient.ipynb). By applying policy gradient on the reduced $ A(a, s) $ instead of $ E\\left[\\sum{\\gamma r}\\right] $, we can expect the stable convergence in complex problems, compared with vanilla policy gradient. (See my [early post](https://tsmatz.wordpress.com/2017/09/13/overfitting-for-regression-and-deep-learning/) for bad effects by large values and parameters in deep learning.)<br>\n",
    "This is based on the idea of Q-Learning, but unlike Q-Learning, you can also operate stochastic and continuous problems with actor-critic method.\n",
    "\n",
    "*(back to [index](https://github.com/tsmatz/reinforcement-learning-tutorials/))*"
   ]
  },
  {
   "cell_type": "markdown",
   "id": "following-cement",
   "metadata": {},
   "source": [
    "First, please install the required packages and import these modules."
   ]
  },
  {
   "cell_type": "code",
   "execution_count": null,
   "id": "secure-latex",
   "metadata": {},
   "outputs": [],
   "source": [
    "!pip install numpy gym keras tensorflow==2.4 matplotlib"
   ]
  },
  {
   "cell_type": "code",
   "execution_count": 1,
   "id": "scenic-detective",
   "metadata": {},
   "outputs": [],
   "source": [
    "import gym\n",
    "import numpy as np\n",
    "import tensorflow as tf"
   ]
  },
  {
   "cell_type": "markdown",
   "id": "engaged-chaos",
   "metadata": {},
   "source": [
    "The idea of actor-critic is similar to [policy gradient example](https://github.com/tsmatz/reinforcement-learning-tutorials/blob/master/02-policy-gradient.ipynb).<br>\n",
    "However, in actor-critic, we use a value function which estimates state value and returns ```v_output``` as follows. (In order to speed up learning, I have reduced the number of hidden neurons, compared with policy gradient example.)\n",
    "\n",
    "> Note : Here I don't describe details, but you can also use shared network and tune value loss coefficient in optimization. (For simplicy, I set 1.0 for value loss coefficient in the following code.)"
   ]
  },
  {
   "cell_type": "code",
   "execution_count": 2,
   "id": "entertaining-contract",
   "metadata": {},
   "outputs": [],
   "source": [
    "s_input = tf.keras.layers.Input(shape=(4, ))\n",
    "\n",
    "a_hidden = tf.keras.layers.Dense(16,activation=\"relu\")(s_input)\n",
    "a_output = tf.keras.layers.Dense(2,activation=None)(a_hidden)\n",
    "\n",
    "v_hidden = tf.keras.layers.Dense(16,activation=\"relu\")(s_input)\n",
    "v_output = tf.keras.layers.Dense(1,activation=None)(v_hidden)\n",
    "\n",
    "policy_pi = tf.keras.Model([s_input], [a_output, v_output])"
   ]
  },
  {
   "cell_type": "markdown",
   "id": "incident-completion",
   "metadata": {},
   "source": [
    "Now we optimize both policy gradient loss (following ```pi_loss```) and value loss (following ```vf_loss```) as follows.\n",
    "\n",
    "Here I simply add policy loss $ p $ (```pi_loss```) and value loss $ v $ (```vf_loss```), but it's better to adjust with a loss ratio $ 0 \\lt \\rho \\lt 1$ by computing $ (1-\\rho) p + \\rho v $ in practice.\n",
    "\n",
    "> Note : The log probability equals to the negative value of cross-entropy error. Same like [policy gradient example](https://github.com/tsmatz/reinforcement-learning-tutorials/blob/master/02-policy-gradient.ipynb), I used ```-tf.nn.sparse_softmax_cross_entropy_with_logits()``` to get log probability in the following code."
   ]
  },
  {
   "cell_type": "code",
   "execution_count": 3,
   "id": "sublime-basin",
   "metadata": {},
   "outputs": [
    {
     "name": "stdout",
     "output_type": "stream",
     "text": [
      "Run episode952 with rewards 200.0\n",
      "Done\n"
     ]
    }
   ],
   "source": [
    "gamma = 0.99\n",
    "\n",
    "# pick up action with above distribution policy_pi\n",
    "def pick_sample(s):\n",
    "    logits, _ = policy_pi(tf.convert_to_tensor(np.array([s])))\n",
    "    # return tf.Tensor([[a]], shape=(1, 1), dtype=int64)\n",
    "    a_tensor = tf.random.categorical(logits, 1)\n",
    "    # return tf.Tensor([a], shape=(1, 1), dtype=int64)\n",
    "    a_tensor = tf.squeeze(a_tensor, axis=1)\n",
    "    # return a\n",
    "    return int(a_tensor.numpy()[0])\n",
    "\n",
    "env = gym.make(\"CartPole-v0\")\n",
    "reward_records = []\n",
    "opt = tf.keras.optimizers.Adam(learning_rate=0.001)\n",
    "for i in range(1500):\n",
    "    # Run episode till done\n",
    "    done = False\n",
    "    reward_arr = []\n",
    "    s = env.reset()\n",
    "    while not done:\n",
    "        a = pick_sample(s)\n",
    "        s_next, r, done, _ = env.step(a)\n",
    "\n",
    "        # Train\n",
    "        _, v = policy_pi.predict(tf.convert_to_tensor(np.array([s])))\n",
    "        v = v.item()\n",
    "        if done:\n",
    "            v_next = 0\n",
    "        else:\n",
    "            _, v_next = policy_pi.predict(tf.convert_to_tensor(np.array([s_next])))\n",
    "            v_next = v_next.item()\n",
    "        adv = r + gamma * v_next - v\n",
    "        with tf.GradientTape() as tape:\n",
    "            a_output, v_output = policy_pi(tf.convert_to_tensor(np.array([s])), training=True)\n",
    "            v_output = tf.reshape(v_output, [-1])\n",
    "            # (See above Note. Calculating log probability as loss)\n",
    "            log_prob = -tf.nn.sparse_softmax_cross_entropy_with_logits(\n",
    "                logits=a_output,\n",
    "                labels=tf.convert_to_tensor(np.array([a])))\n",
    "            pi_loss = -log_prob * adv\n",
    "            vf_loss = tf.nn.l2_loss(v_output - (r + gamma * v_next))\n",
    "            grad = tape.gradient(\n",
    "                pi_loss + vf_loss,\n",
    "                policy_pi.trainable_variables)\n",
    "            opt.apply_gradients(zip(grad, policy_pi.trainable_variables))\n",
    "\n",
    "        reward_arr.append(r)\n",
    "        s = s_next\n",
    "\n",
    "    # Output total rewards in episode (max 200)\n",
    "    print(\"Run episode{} with rewards {}\".format(i, sum(reward_arr)), end=\"\\r\")\n",
    "    reward_records.append(sum(reward_arr))\n",
    "\n",
    "    # stop if reward mean > 195.0\n",
    "    reward_records_np = np.array(reward_records)\n",
    "    if np.average(reward_records_np[-50:]) > 195.0:\n",
    "        break\n",
    "\n",
    "print(\"\\nDone\")\n",
    "env.close()"
   ]
  },
  {
   "cell_type": "code",
   "execution_count": 4,
   "id": "every-appointment",
   "metadata": {},
   "outputs": [
    {
     "data": {
      "text/plain": [
       "[<matplotlib.lines.Line2D at 0x7fd91674a400>]"
      ]
     },
     "execution_count": 4,
     "metadata": {},
     "output_type": "execute_result"
    },
    {
     "data": {
      "image/png": "[encoded data removed]",
      "text/plain": [
       "<Figure size 432x288 with 1 Axes>"
      ]
     },
     "metadata": {
      "needs_background": "light"
     },
     "output_type": "display_data"
    }
   ],
   "source": [
    "import matplotlib.pyplot as plt\n",
    "# Generate recent 50 interval average\n",
    "reward_records_np = np.array(reward_records)\n",
    "average_reward = []\n",
    "for idx in range(len(reward_records)):\n",
    "    avg_list = np.empty(shape=(1,), dtype=int)\n",
    "    if idx < 50:\n",
    "        avg_list = reward_records_np[:idx+1]\n",
    "    else:\n",
    "        avg_list = reward_records_np[idx-49:idx+1]\n",
    "    average_reward.append(np.average(avg_list))\n",
    "plt.plot(reward_records)\n",
    "plt.plot(average_reward)"
   ]
  },
  {
   "cell_type": "code",
   "execution_count": null,
   "id": "designing-three",
   "metadata": {},
   "outputs": [],
   "source": []
  }
 ],
 "metadata": {
  "kernelspec": {
   "display_name": "Python 3",
   "language": "python",
   "name": "python3"
  },
  "language_info": {
   "codemirror_mode": {
    "name": "ipython",
    "version": 3
   },
   "file_extension": ".py",
   "mimetype": "text/x-python",
   "name": "python",
   "nbconvert_exporter": "python",
   "pygments_lexer": "ipython3",
   "version": "3.6.9"
  }
 },
 "nbformat": 4,
 "nbformat_minor": 5
}
