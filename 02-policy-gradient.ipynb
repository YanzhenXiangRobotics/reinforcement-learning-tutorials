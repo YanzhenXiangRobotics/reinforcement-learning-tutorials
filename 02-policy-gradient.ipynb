{
 "cells": [
  {
   "cell_type": "markdown",
   "id": "recent-bunch",
   "metadata": {},
   "source": [
    "# Policy Gradient in Reinforcement Learning\n",
    "\n",
    "As we saw in the [previous tutorial](https://github.com/tsmatz/reinforcement-learning-tutorials/blob/master/01-q-learning.ipynb), Q-Learning is a baseline method for optimizing generic RL problems, but a lot of real problems involve stochastic environments, such as the continuous space, and this straight-forward method discussed in [previous tutorial](https://github.com/tsmatz/reinforcement-learning-tutorials/blob/master/01-q-learning.ipynb) will suffer from these gaps.<br>\n",
    "In order to overcome, the stochastic distributions are introduced in recent algorithms. For instance, you will be able to use categorical distribution in discrete action spaces, and Gaussian distribution for even ```Box``` (continuos) action spaces.\n",
    "\n",
    "This tutorial shows the idea of on-policy learning using simple program code.\n",
    "\n",
    "> Note : Here I'll show you vanilla (plane) policy gradient architecture for your introduction, but most algorithms with policy gradient involves advanced other tricks in practice. (See Actor-Critic or PPO examples.)\n",
    "\n",
    "*(back to [index](https://github.com/tsmatz/reinforcement-learning-tutorials/))*"
   ]
  },
  {
   "cell_type": "markdown",
   "id": "following-cement",
   "metadata": {},
   "source": [
    "First, please install the required packages and import these modules.<br>\n",
    "Here we use TensroFlow in order to operate gradient descent."
   ]
  },
  {
   "cell_type": "code",
   "execution_count": null,
   "id": "about-sensitivity",
   "metadata": {},
   "outputs": [],
   "source": [
    "!pip install numpy gym keras tensorflow==2.4 matplotlib"
   ]
  },
  {
   "cell_type": "code",
   "execution_count": 1,
   "id": "scenic-detective",
   "metadata": {},
   "outputs": [],
   "source": [
    "import gym\n",
    "import numpy as np\n",
    "import tensorflow as tf"
   ]
  },
  {
   "cell_type": "markdown",
   "id": "engaged-chaos",
   "metadata": {},
   "source": [
    "In policy gradient, the action $a$ is picked up by the distribution $P$ which depends on policy $\\pi$.<br>\n",
    "To say more clearly, the distibution of action is $ P(a | \\pi_\\theta (s)) $ (which depends on the current state $s$), where $ \\pi_\\theta (s) $ is policy and $\\theta$ is parameters for policy.\n",
    "\n",
    "In this example, $P(\\cdot)$ is categorical distribution (because action space is discrete in this example), and $\\pi_\\theta (s)$ is the following fcnet (fully-connected) network model ```policy_pi```, in which ```s_input``` is observation state input. ($ \\theta $ is then parameters of this fcnet model.)<br>\n",
    "The output of $\\pi_\\theta (s)$ (i.e, ```policy_pi```) is logits value for determining categorical distribution $P(\\cdot)$.\n",
    "\n",
    "![policy](assets/policy.png?raw=true)\n",
    "\n",
    "> Note : Here I assume \"logits\" instead of \"probability\", but when you use \"probability\" instead, please specify ```softmax``` as activation in final layer."
   ]
  },
  {
   "cell_type": "code",
   "execution_count": 2,
   "id": "entertaining-contract",
   "metadata": {},
   "outputs": [],
   "source": [
    "s_input = tf.keras.layers.Input(shape=(4, ))\n",
    "hidden = tf.keras.layers.Dense(64,activation='relu')(s_input)\n",
    "a_output = tf.keras.layers.Dense(2,activation=None)(hidden)\n",
    "\n",
    "policy_pi = tf.keras.Model([s_input], [a_output])"
   ]
  },
  {
   "cell_type": "markdown",
   "id": "incident-completion",
   "metadata": {},
   "source": [
    "In each episode, we consider the following expectation $E_{\\pi_\\theta}[R]$.\n",
    "$$ E_{\\pi_\\theta}[R]=\\int_a{R(a) \\cdot P(a|\\pi_\\theta(s))} $$\n",
    "where $R$ is the cumulative expected rewards $ R = \\sum{\\gamma r} $, and $\\gamma$ is discount rate. (See [Q-Learning](https://github.com/tsmatz/reinforcement-learning-tutorials/blob/master/01-q-learning.ipynb) for $ \\sum{\\gamma r} $.)\n",
    "\n",
    "> Note : To simplify, here I used $ \\int_a R P $, but consider $ \\int_{\\tau} R P $ for any trajectory $ \\tau $.\n",
    "\n",
    "To get the optimimal $ \\theta $ which maximizes $E$, we apply the gradient descent $ \\theta_{t+1} \\leftarrow \\theta_t + \\Delta \\theta $<br>\n",
    "where\n",
    "$$ \\Delta \\theta = \\alpha R \\cdot \\nabla_{\\theta} \\log{P(a|\\pi_\\theta(s))} \\;\\;\\;\\;\\; (1) $$\n",
    "and $\\alpha$ is learning rate.\n",
    "\n",
    "<blockquote>\n",
    "Note : Here I don't go so far, but this formula is derived from the following equation. It's difficult to know $ \\nabla E $ directly, but this formula can be easily used on each step in gradient algorithms.\n",
    "\n",
    "$$ \\nabla_{\\theta} \\int{R(a) \\cdot P(a|\\pi_\\theta(s))} = \\int{R(a) \\nabla_{\\theta}{\\log P(a|\\pi_\\theta(s))} \\cdot P(a|\\pi_\\theta(s))} $$\n",
    "</blockquote>\n",
    "\n",
    "As you can see in the equation (1), if the expected reward $R$ is positively large, the probability to take action $a$ in the state $s$ will be increased by modifying $\\theta$. On contrary, if the expected reward $R$ is negative, $\\theta$ will be changed to decrease the probability to take this action $a$.\n",
    "\n",
    "As you find, this algorithm will improve a stochastic policy by action's policy $ P( \\cdot | \\pi_\\theta (s)) $ updates, not only depending on greedy action sampling (i.e, experiences) such as used in [Q-learning](./01-q-learning.ipynb). This method is then sometimes called **on-policy** learning.<br>\n",
    "(I'll introduce another approach to operate continuos action by off-policy way in \"[DDPG](./05-ddpg.ipynb)\".)\n",
    "\n",
    "To implement this optimization, the training script will become as follows.\n",
    "\n",
    "> Note : The negative value of this log probability is known as the value of cross-entropy error in categorical distribution.<br>\n",
    "> Here I then used ```-tf.nn.sparse_softmax_cross_entropy_with_logits()``` to get log probability ($ \\log P $) in the following code."
   ]
  },
  {
   "cell_type": "code",
   "execution_count": 3,
   "id": "sublime-basin",
   "metadata": {},
   "outputs": [
    {
     "name": "stdout",
     "output_type": "stream",
     "text": [
      "Run episode599 with rewards 200.0\n",
      "Done\n"
     ]
    }
   ],
   "source": [
    "gamma = 0.99\n",
    "\n",
    "# pick up action with above distribution policy_pi\n",
    "def pick_sample(s):\n",
    "    logits = policy_pi(tf.cast(np.array([s]), tf.float32))\n",
    "    # return tf.Tensor([[a]], shape=(1, 1), dtype=int64)\n",
    "    a_tensor = tf.random.categorical(logits, 1)\n",
    "    # return tf.Tensor([a], shape=(1, 1), dtype=int64)\n",
    "    a_tensor = tf.squeeze(a_tensor, axis=1)\n",
    "    # return a\n",
    "    return int(a_tensor.numpy()[0])\n",
    "\n",
    "env = gym.make(\"CartPole-v0\")\n",
    "reward_records = []\n",
    "opt = tf.keras.optimizers.Adam(learning_rate=0.001)\n",
    "for i in range(600):\n",
    "    # Run episode till done\n",
    "    done = False\n",
    "    states_arr = []\n",
    "    action_arr = []\n",
    "    reward_arr = []\n",
    "    s = env.reset()\n",
    "    while not done:\n",
    "        states_arr.append(s)\n",
    "        a = pick_sample(s)\n",
    "        s, r, done, _ = env.step(a)\n",
    "        action_arr.append(a)\n",
    "        reward_arr.append(r)\n",
    "\n",
    "    # Change to cumulative rewards\n",
    "    reward_arr_cum = np.zeros_like(reward_arr)\n",
    "    reward_len = len(reward_arr)\n",
    "    for j in reversed(range(reward_len)):\n",
    "        reward_arr_cum[j] = reward_arr[j] + (reward_arr_cum[j+1]*gamma if j+1 < reward_len else 0)\n",
    "\n",
    "    # Train parameters\n",
    "    for s, a, r in zip(states_arr, action_arr, reward_arr_cum):\n",
    "        with tf.GradientTape() as tape:\n",
    "            logits = policy_pi(tf.convert_to_tensor(np.array([s])), training=True)\n",
    "            # calculate log probability as loss (see above Note)\n",
    "            log_prob = -tf.nn.sparse_softmax_cross_entropy_with_logits(\n",
    "                logits=logits,\n",
    "                labels=tf.convert_to_tensor(np.array([a])))\n",
    "            loss = -log_prob * r\n",
    "            grad = tape.gradient(\n",
    "                loss,\n",
    "                policy_pi.trainable_variables)\n",
    "            opt.apply_gradients(zip(grad, policy_pi.trainable_variables))\n",
    "\n",
    "    # Record total rewards in episode (max 200)\n",
    "    print(\"Run episode{} with rewards {}\".format(i, sum(reward_arr)), end=\"\\r\")\n",
    "    reward_records.append(sum(reward_arr))\n",
    "\n",
    "print(\"\\nDone\")\n",
    "env.close()"
   ]
  },
  {
   "cell_type": "code",
   "execution_count": 4,
   "id": "editorial-persian",
   "metadata": {},
   "outputs": [
    {
     "data": {
      "text/plain": [
       "[<matplotlib.lines.Line2D at 0x7eff3eaa74a8>]"
      ]
     },
     "execution_count": 4,
     "metadata": {},
     "output_type": "execute_result"
    },
    {
     "data": {
      "image/png": "[encoded data removed]",
      "text/plain": [
       "<Figure size 432x288 with 1 Axes>"
      ]
     },
     "metadata": {
      "needs_background": "light"
     },
     "output_type": "display_data"
    }
   ],
   "source": [
    "import matplotlib.pyplot as plt\n",
    "plt.plot(reward_records)"
   ]
  },
  {
   "cell_type": "code",
   "execution_count": null,
   "id": "designing-three",
   "metadata": {},
   "outputs": [],
   "source": []
  }
 ],
 "metadata": {
  "kernelspec": {
   "display_name": "Python 3",
   "language": "python",
   "name": "python3"
  },
  "language_info": {
   "codemirror_mode": {
    "name": "ipython",
    "version": 3
   },
   "file_extension": ".py",
   "mimetype": "text/x-python",
   "name": "python",
   "nbconvert_exporter": "python",
   "pygments_lexer": "ipython3",
   "version": "3.6.9"
  }
 },
 "nbformat": 4,
 "nbformat_minor": 5
}
