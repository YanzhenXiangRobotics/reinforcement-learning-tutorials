{
 "cells": [
  {
   "cell_type": "markdown",
   "id": "pleasant-witch",
   "metadata": {},
   "source": [
    "# Q-Learning in Reinforcement Learning\n",
    "\n",
    "Q-Learning is most primitive, but big part of algorithms to learn reinforcement learning.\n",
    "\n",
    "In order to understand how it works, first let's consider the expected rewards as follows.\n",
    "\n",
    "$$ R = \\sum_{t=0}^{\\infty} {\\gamma^t r_t} $$\n",
    "\n",
    "where $r_t$ is a reward value obtained at $t$ and $\\gamma$ is discount.\n",
    "\n",
    "For instance, when you try to grab an object, you will do the following 3 actions :\n",
    "\n",
    "- action #1 : Stretch your arm ($t=0$)<br>\n",
    "  Getting reward 0.\n",
    "- action #2 : Open your hand ($t=1$)<br>\n",
    "  Getting reward 0.\n",
    "- action #3 : Grab an object ($t=2$)<br>\n",
    "  Getting reward 10.\n",
    "\n",
    "In this case, you will get a reward value 10 on action #3 ($t=2$), however the action #1 ($t=0$) is obviously contributing to the final rewards. Hence, we consider that the action #1 will have the following expected cumulative reward.<br>\n",
    "Here we assume $\\gamma$ is 0.99.\n",
    "\n",
    "$$ R_{t=0} = 0 + 0.99 \\times 0 + 0.99^2 \\times 10 = 9.801 $$\n",
    "\n",
    "Same as above, $R_{t=1} = 9.9, R_{t=2} = 10$.\n",
    "\n",
    "Q-value is based on this idea of expected cumulative reward. Depending on each state (observation), the each action will have the corresponding expected reward.<br>\n",
    "In above example, if you see an object in front of you (i.e, the **state** of \"you see an object\"), the **action** \"stretching your arm\" will have high value of expected reward. However, if you cannot see an object anywhere, the action \"stretching your arm\" will have low value of expected reward.\n",
    "\n",
    "Q-value of each corresponding state and action is denoted as $Q(s, a)$. Suppose both action and state has 1 dimension of discrete values, $Q(s, a)$ will be written as a table (called Q-Table) as follows.\n",
    "\n",
    "![Q-Table](assets/q-table.png?raw=true)\n",
    "\n",
    "In practice, both action space and observation space may have more than 1 dimension. For instance, in CartPole example (below example), the returned state (observation) has 4 elements of float values, i.e, 4 dimensions. (See [readme.md](https://github.com/tsmatz/reinforcement-learning-tutorials/) for CartPole.) Then Q-Table will be the combination of 1 dimenstion (action space) and 4 dimenstion (observation space).\n",
    "\n",
    "In Q-Learning, we optimize this table by the following iterative updates ($t=0,1,2,\\ldots$).<br>\n",
    "In the following equation, $ Q_t(s_t,a_t) $ is current Q-value and $ Q_{t+1}(s_t,a_t) $ is the updated Q-value.\n",
    "\n",
    "$$ Q_{t+1}(s_t,a_t) = Q_t(s_t,a_t) + \\alpha \\left( r_t + \\gamma \\max_a{Q_t(s_{t+1},a)} - Q_t(s_t,a_t) \\right) $$\n",
    "\n",
    "where $\\alpha$ is learning rate.\n",
    "\n",
    "This equation means that :\n",
    "\n",
    "- Suppose, you executed an action $a_t$ on state $s_t$, and as a result, you got reward $r_t$ and the state has changed to $s_{t+1}$.\n",
    "- The optimal next action will satisfy $a_{t+1}=\\max_{a}{Q(s_{t+1},a)}$.<br>\n",
    "  By taking this optimal action, you will then get the expected reward : $r_t + \\gamma \\max_{a}{Q(s_{t+1},a)}$.\n",
    "- Compare this optimal q-value with current q-value $Q(s_t,a_t)$ in q-table. Then update this current value $Q(s_t,a_t)$ by learning rate $\\alpha$.<br>\n",
    "  This will result into above equation.\n",
    "\n",
    "Now let's build this Python example with CartPole environment. (See [readme.md](https://github.com/tsmatz/reinforcement-learning-tutorials/) about CartPole.)\n",
    "\n",
    "*(back to [index](https://github.com/tsmatz/reinforcement-learning-tutorials/))*"
   ]
  },
  {
   "cell_type": "markdown",
   "id": "terminal-minute",
   "metadata": {},
   "source": [
    "First, please install the required packages and import these modules."
   ]
  },
  {
   "cell_type": "code",
   "execution_count": null,
   "id": "promotional-portfolio",
   "metadata": {},
   "outputs": [],
   "source": [
    "!pip install numpy gym matplotlib"
   ]
  },
  {
   "cell_type": "code",
   "execution_count": 1,
   "id": "creative-chess",
   "metadata": {},
   "outputs": [],
   "source": [
    "import gym\n",
    "import numpy as np"
   ]
  },
  {
   "cell_type": "markdown",
   "id": "together-perspective",
   "metadata": {},
   "source": [
    "CartPole has 4 elements of continuos (float) observation space. In order for applying primitive Q-Learning, we should convert continuous state to discrete state (i.e, discretize).<br>\n",
    "In this example, we will convert Tuple(Box, Box, Box, Box) into Tuple(Discrete(20), Discrete(20), Discrete(20), Discrete(20)) - which converts float value to the value of index for each segment."
   ]
  },
  {
   "cell_type": "code",
   "execution_count": 2,
   "id": "honey-house",
   "metadata": {},
   "outputs": [
    {
     "name": "stdout",
     "output_type": "stream",
     "text": [
      "[-4.32000017 -3.84000015 -3.36000013 -2.88000011 -2.4000001  -1.92000008\n",
      " -1.44000006 -0.96000004 -0.48000002  0.          0.48000002  0.96000004\n",
      "  1.44000006  1.92000008  2.4000001   2.88000011  3.36000013  3.84000015\n",
      "  4.32000017]\n",
      "[-3.6 -3.2 -2.8 -2.4 -2.  -1.6 -1.2 -0.8 -0.4  0.   0.4  0.8  1.2  1.6\n",
      "  2.   2.4  2.8  3.2  3.6]\n",
      "[-0.37699113 -0.33510323 -0.29321532 -0.25132742 -0.20943952 -0.16755161\n",
      " -0.12566371 -0.08377581 -0.0418879   0.          0.0418879   0.08377581\n",
      "  0.12566371  0.16755161  0.20943952  0.25132742  0.29321532  0.33510323\n",
      "  0.37699113]\n",
      "[-3.6 -3.2 -2.8 -2.4 -2.  -1.6 -1.2 -0.8 -0.4  0.   0.4  0.8  1.2  1.6\n",
      "  2.   2.4  2.8  3.2  3.6]\n"
     ]
    }
   ],
   "source": [
    "import math\n",
    "\n",
    "env = gym.make(\"CartPole-v0\")\n",
    "\n",
    "new_observation_shape = (20, 20, 20, 20)\n",
    "\n",
    "bins = []\n",
    "for i in range(4):\n",
    "    item = np.linspace(\n",
    "        env.observation_space.low[i] if (i == 0) or (i == 2) else -4,\n",
    "        env.observation_space.high[i] if (i == 0) or (i == 2) else 4,\n",
    "        num=new_observation_shape[i],\n",
    "        endpoint=False)\n",
    "    item = np.delete(item, 0)\n",
    "    bins.append(item)\n",
    "    print(bins[i])\n",
    "\n",
    "# define function to convert to discrete state\n",
    "def get_discrete_state(s):\n",
    "    new_s = []\n",
    "    for i in range(4):\n",
    "        new_s.append(np.digitize(s[i], bins[i]))\n",
    "    return new_s"
   ]
  },
  {
   "cell_type": "markdown",
   "id": "ignored-cincinnati",
   "metadata": {},
   "source": [
    "Now we generate Q-Table $Q(s,a)$ and initialize all values by 0. (Here it's 5 dimensional table.)"
   ]
  },
  {
   "cell_type": "code",
   "execution_count": 3,
   "id": "needed-communications",
   "metadata": {},
   "outputs": [
    {
     "data": {
      "text/plain": [
       "(20, 20, 20, 20, 2)"
      ]
     },
     "execution_count": 3,
     "metadata": {},
     "output_type": "execute_result"
    }
   ],
   "source": [
    "q_table = np.zeros(new_observation_shape + (env.action_space.n,))\n",
    "q_table.shape"
   ]
  },
  {
   "cell_type": "markdown",
   "id": "julian-sacrifice",
   "metadata": {},
   "source": [
    "Now, update Q-Table with above Q-Learning algorithm.\n",
    "\n",
    "However, in the beginning, Q-Table was initialized all by zeros (not optimized at all) and will always pick up wrong actions. Therefore, the action is randomly picked up to explore in the first stage, and when it grows to learn, it then picks up the optimal actions with Q-Table gradually using the following coefficient parameter $\\epsilon$ to control. (This exploration algorithm is called **Epsilon-Greedy**.)"
   ]
  },
  {
   "cell_type": "code",
   "execution_count": 4,
   "id": "fitted-torture",
   "metadata": {},
   "outputs": [
    {
     "name": "stdout",
     "output_type": "stream",
     "text": [
      "Run episode5999 with rewards 200.0\n",
      "Done\n"
     ]
    }
   ],
   "source": [
    "gamma = 0.99\n",
    "alpha = 0.1\n",
    "epsilon = 1\n",
    "epsilon_decay = epsilon / 4000\n",
    "\n",
    "# pick up action from q-table with greedy exploration\n",
    "def pick_sample(s, episode_num):\n",
    "    # get optimal action,\n",
    "    # but with greedy exploration (to prevent picking up same values in the first stage)\n",
    "    if np.random.random() > epsilon:\n",
    "        a = np.argmax(q_table[tuple(s)])\n",
    "    else:\n",
    "        a = np.random.randint(0, env.action_space.n)\n",
    "    return a\n",
    "\n",
    "env = gym.make(\"CartPole-v0\")\n",
    "reward_records = []\n",
    "for i in range(6000):\n",
    "    # Run episode till done\n",
    "    done = False\n",
    "    total_reward = 0\n",
    "    s = env.reset()\n",
    "    s_dis = get_discrete_state(s)\n",
    "    while not done:\n",
    "        a = pick_sample(s_dis, i)\n",
    "        s, r, done, _ = env.step(a)\n",
    "        s_dis_next = get_discrete_state(s)\n",
    "\n",
    "        # Update Q-Table\n",
    "        maxQ = np.max(q_table[tuple(s_dis_next)])\n",
    "        q_table[tuple(s_dis)][a] += alpha * (r + gamma * maxQ - q_table[tuple(s_dis)][a])\n",
    "\n",
    "        s_dis = s_dis_next\n",
    "        total_reward += r\n",
    "\n",
    "    # Update epsilon for each episode\n",
    "    if epsilon - epsilon_decay >= 0:\n",
    "        epsilon -= epsilon_decay\n",
    "    \n",
    "    # Record total rewards in episode (max 200)\n",
    "    print(\"Run episode{} with rewards {}\".format(i, total_reward), end=\"\\r\")\n",
    "    reward_records.append(total_reward)\n",
    "\n",
    "print(\"\\nDone\")\n",
    "env.close()"
   ]
  },
  {
   "cell_type": "code",
   "execution_count": 5,
   "id": "final-neighbor",
   "metadata": {},
   "outputs": [
    {
     "data": {
      "text/plain": [
       "[<matplotlib.lines.Line2D at 0x7f8235d492e8>]"
      ]
     },
     "execution_count": 5,
     "metadata": {},
     "output_type": "execute_result"
    },
    {
     "data": {
      "image/png": "[encoded data removed]",
      "text/plain": [
       "<Figure size 432x288 with 1 Axes>"
      ]
     },
     "metadata": {
      "needs_background": "light"
     },
     "output_type": "display_data"
    }
   ],
   "source": [
    "import matplotlib.pyplot as plt\n",
    "plt.plot(reward_records)"
   ]
  },
  {
   "cell_type": "markdown",
   "id": "lyric-butterfly",
   "metadata": {},
   "source": [
    "As you can see above, this method won't work in large continuous and stochastic spaces (e.g, continuos action space), since this method will need so many discrete mesh for solving problems.<br>\n",
    "In the next tutorial, we'll learn the idea of policy gradient methods, which will take effects in such a case."
   ]
  },
  {
   "cell_type": "code",
   "execution_count": null,
   "id": "modified-champagne",
   "metadata": {},
   "outputs": [],
   "source": []
  }
 ],
 "metadata": {
  "kernelspec": {
   "display_name": "Python 3",
   "language": "python",
   "name": "python3"
  },
  "language_info": {
   "codemirror_mode": {
    "name": "ipython",
    "version": 3
   },
   "file_extension": ".py",
   "mimetype": "text/x-python",
   "name": "python",
   "nbconvert_exporter": "python",
   "pygments_lexer": "ipython3",
   "version": "3.6.9"
  }
 },
 "nbformat": 4,
 "nbformat_minor": 5
}
