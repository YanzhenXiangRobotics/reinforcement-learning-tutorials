{
 "cells": [
  {
   "cell_type": "markdown",
   "id": "recent-bunch",
   "metadata": {},
   "source": [
    "# PPO (Proximal Policy Optimization)\n",
    "\n",
    "Proximal Policy Optimization (PPO) is one of most successful algorithms in today's reinforcement learning.\n",
    "\n",
    "PPO is an algorithm that optimizes a stochastic policy in an on-policy way. However, in order to avoid the loss of performance, PPO algorithm prevents the update from stepping so far.<br>\n",
    "In PPO, there are two variants: PPO-Penalty and PPO-Clip. In this example, we'll focus on PPO-Penalty.\n",
    "\n",
    "> Note : The idea of PPO-Clip is more simple rather than PPO-Penalty. PPO-Clip limits the update by directly clipping with $ \\epsilon $.<br>\n",
    "> For details about PPO-Clip, see [OpenAI document](https://spinningup.openai.com/en/latest/algorithms/ppo.html).\n",
    "\n",
    "As you saw in [Actor-Critic method](https://github.com/tsmatz/reinforcement-learning-tutorials/blob/master/03-actor-critic.ipynb), the algorithm will learn policy parameters ($ \\theta $) with advantages $ A $.<br>\n",
    "When we assume that the agent takes large advantage $ A $ on action $ a $, $ P(a | \\pi_\\theta (s)) $ must be increased much more than $ P(a | \\pi_{\\theta_{old}} (s)) $, with new parameters $ \\theta $. Hence you can expect new $ \\theta $ as follows. :\n",
    "\n",
    "$$ \\max_{\\theta} E \\left[ \\frac{P(a | \\pi_\\theta (s))}{P(a | \\pi_{\\theta_{old}} (s))} A \\right] $$\n",
    "\n",
    "In order to prevent large policy updates, PPO penaltize for this expectation as follows :\n",
    "\n",
    "$$ \\max_{\\theta} E \\left[ \\frac{P(a | \\pi_\\theta (s))}{P(a | \\pi_{\\theta_{old}} (s))} A - \\beta \\cdot \\verb|penalty| \\right] $$\n",
    "\n",
    "where $ \\beta $ is the coefficient for the weight of penalty.\n",
    "\n",
    "In PPO-Penalty, KL-divergence is used as this penalty. :\n",
    "\n",
    "$$ \\verb|penalty| = \\verb|KL| \\left( P(\\cdot | \\pi_{\\theta_{old}} (s)) \\| P(\\cdot | \\pi_\\theta (s)) \\right) $$\n",
    "\n",
    "KL-divergence or Kullback-Leibler divergence is often used in information theory, such as, approximate inference.<br>\n",
    "Now we assume that both $ P(x) $ and $ Q(x) $ are stochastic distributions. Then $ \\verb|KL|( P \\| Q ) := -\\int{P(x) \\ln{\\frac{Q(x)}{P(X)}}}dx $ is always positive or zero, and zero if and only if both distributions are same.<br>\n",
    "$ \\verb|KL|( P \\| Q ) $ indicates how far between these distributions, $ P $ and $ Q $. If $ Q $ is so far from $ P $, $ \\verb|KL|( P \\| Q ) $ will be largely positive.\n",
    "\n",
    "> Note : For details about entropy and KL-divergence, see chapter 1.6 in \"[Pattern Recognition and Machine Learning](http://wordpress.redirectingat.com/?id=725X1342&isjs=1&jv=15.1.0-stackpath&sref=https%3A%2F%2Ftsmatz.wordpress.com%2F2020%2F06%2F01%2Fsvm-and-kernel-functions-mathematics%2F&url=https%3A%2F%2Fwww.microsoft.com%2Fen-us%2Fresearch%2Fuploads%2Fprod%2F2006%2F01%2FBishop-Pattern-Recognition-and-Machine-Learning-2006.pdf&xguid=&xs=1&xtz=-540&xuuid=c861da822b99f831a421716ca3a51d33&xcust=8982&xjsf=other_click__auxclick%20%5B2%5D)\" (Christopher M. Bishop, Microsoft).\n",
    "\n",
    "In order to penaltize for large update between $ P(\\cdot | \\pi_{\\theta_{old}} (s)) $ and $ P(\\cdot | \\pi_\\theta (s)) $, we look for the optimal parameters $ \\theta $, such as :\n",
    "\n",
    "$$ \\max_{\\theta} E \\left[ \\frac{P(a | \\pi_\\theta (s))}{P(a | \\pi_{\\theta_{old}} (s))} A - \\beta \\cdot \\verb|KL| \\left( P(\\cdot | \\pi_{\\theta_{old}} (s)) \\| P(\\cdot | \\pi_\\theta (s)) \\right) \\right] $$\n",
    "\n",
    "Even if $ \\frac{P(a | \\pi_\\theta (s))}{P(a | \\pi_{\\theta_{old}} (s))} A $ largely increases, new $ \\theta $ might be rejected when the difference between $ P(\\cdot | \\pi_{\\theta_{old}} (s)) $ and $ P(\\cdot | \\pi_\\theta (s)) $ is so large.\n",
    "\n",
    "See [this paper](https://arxiv.org/pdf/1707.06347.pdf) for more details about PPO.\n",
    "\n",
    "> Note : In this example, we ignore (don't consider) an entropy regularizer. See [SAC algorithm](./06-sac.ipynb) for entropy regularizer.\n",
    "\n",
    "*(back to [index](https://github.com/tsmatz/reinforcement-learning-tutorials/))*"
   ]
  },
  {
   "cell_type": "markdown",
   "id": "following-cement",
   "metadata": {},
   "source": [
    "First, please install the required packages and import these modules."
   ]
  },
  {
   "cell_type": "code",
   "execution_count": null,
   "id": "secure-latex",
   "metadata": {},
   "outputs": [],
   "source": [
    "!pip install numpy gym keras tensorflow==2.4 matplotlib"
   ]
  },
  {
   "cell_type": "code",
   "execution_count": 1,
   "id": "scenic-detective",
   "metadata": {},
   "outputs": [],
   "source": [
    "import gym\n",
    "import numpy as np\n",
    "import tensorflow as tf"
   ]
  },
  {
   "cell_type": "markdown",
   "id": "engaged-chaos",
   "metadata": {},
   "source": [
    "As you saw in [Actor-Critic](https://github.com/tsmatz/reinforcement-learning-tutorials/blob/master/03-actor-critic.ipynb), now we build policy network $ \\pi(\\cdot) $ for the outputs of both action distribution (logits for categorical action) and value estimation. (i.e, this is a network for both policy function and value function.)"
   ]
  },
  {
   "cell_type": "code",
   "execution_count": 2,
   "id": "entertaining-contract",
   "metadata": {},
   "outputs": [],
   "source": [
    "s_input = tf.keras.layers.Input(shape=(4, ))\n",
    "\n",
    "a_hidden = tf.keras.layers.Dense(16,activation=\"relu\")(s_input)\n",
    "a_output = tf.keras.layers.Dense(2,activation=None)(a_hidden)\n",
    "\n",
    "v_hidden = tf.keras.layers.Dense(16,activation=\"relu\")(s_input)\n",
    "v_output = tf.keras.layers.Dense(1,activation=None)(v_hidden)\n",
    "\n",
    "policy_pi = tf.keras.Model([s_input], [a_output, v_output])"
   ]
  },
  {
   "cell_type": "markdown",
   "id": "incident-completion",
   "metadata": {},
   "source": [
    "Now we optimize both expectation (see above) and loss.\n",
    "\n",
    "Instead of maximizing $ \\frac{P(a | \\theta_{new})}{P(a | \\theta_{old})} A - \\beta \\cdot \\verb|KL| \\left( P(\\theta_{old}) \\| P(\\theta_{new}) \\right) $ and minimizing loss, here we minimize the following tensor :\n",
    "\n",
    "$$ (-1) \\frac{P(a | \\theta_{new})}{P(a | \\theta_{old})} A + \\beta \\cdot \\verb|KL| \\left( P(\\theta_{old}) \\| P(\\theta_{new}) \\right) + loss $$\n",
    "\n",
    "Unlike [Actor-Critic sample](https://github.com/tsmatz/reinforcement-learning-tutorials/blob/master/03-actor-critic.ipynb), here I train the parameters with batch in each episode.\n",
    "\n",
    "> Note : The log probability equals to the negative value of cross-entropy error. Same like [policy gradient example](https://github.com/tsmatz/reinforcement-learning-tutorials/blob/master/02-policy-gradient.ipynb), I used ```-tf.nn.sparse_softmax_cross_entropy_with_logits()``` to get log probability in the following code."
   ]
  },
  {
   "cell_type": "code",
   "execution_count": 3,
   "id": "sublime-basin",
   "metadata": {},
   "outputs": [
    {
     "name": "stdout",
     "output_type": "stream",
     "text": [
      "Run episode2026 with rewards 200.0\n",
      "Done\n"
     ]
    }
   ],
   "source": [
    "gamma = 0.99    # discount\n",
    "kl_coeff = 0.2  # weight coefficient for KL-divergence loss\n",
    "vl_coeff = 1.0  # weight coefficient for value loss\n",
    "\n",
    "# pick up action and following properties for state (s)\n",
    "# Return :\n",
    "#     action (int)       action\n",
    "#     logits (list[int]) logits defining categorical distribution\n",
    "#     logprb (float)     log probability\n",
    "def pick_sample_and_logp(s):\n",
    "    logits_t, _ = policy_pi(tf.convert_to_tensor(np.array([s])))\n",
    "    # return tf.Tensor([[a]], shape=(1, 1), dtype=int64)\n",
    "    action_t = tf.random.categorical(logits_t, 1)\n",
    "    # return tf.Tensor([a], shape=(1, 1), dtype=int64)\n",
    "    action_t = tf.squeeze(action_t, axis=1)\n",
    "    # calculate log probability\n",
    "    logprb_t = -tf.nn.sparse_softmax_cross_entropy_with_logits(\n",
    "        logits=logits_t,\n",
    "        labels=action_t)\n",
    "    # get numpy action\n",
    "    action = int(action_t.numpy()[0])\n",
    "    # get numpy logits\n",
    "    logits = logits_t.numpy()[0]\n",
    "    # get numpy logprb\n",
    "    logprb = logprb_t.numpy()[0]\n",
    "    return action, logits, logprb\n",
    "\n",
    "env = gym.make(\"CartPole-v0\")\n",
    "reward_records = []\n",
    "opt = tf.keras.optimizers.Adam(learning_rate=0.0005)\n",
    "for i in range(5000):\n",
    "    # Run episode till done\n",
    "    done = False\n",
    "    states_arr = []\n",
    "    action_arr = []\n",
    "    logits_arr = []\n",
    "    logprb_arr = []\n",
    "    reward_arr = []\n",
    "    s = env.reset()\n",
    "    while not done:\n",
    "        states_arr.append(s)\n",
    "        a, p, l = pick_sample_and_logp(s)\n",
    "        s_next, r, done, _ = env.step(a)\n",
    "        action_arr.append([a])\n",
    "        logits_arr.append(p)\n",
    "        logprb_arr.append([l])\n",
    "        reward_arr.append([r])\n",
    "        s = s_next\n",
    "\n",
    "    # Change to cumulative rewards\n",
    "    rewcum_arr = np.zeros_like(reward_arr)\n",
    "    reward_len = len(reward_arr)\n",
    "    for j in reversed(range(reward_len)):\n",
    "        cum_reward = reward_arr[j][0] + (rewcum_arr[j+1][0]*gamma if j+1 < reward_len else 0)\n",
    "        rewcum_arr[j] = [cum_reward]\n",
    "\n",
    "    # Output total rewards in episode (max 200)\n",
    "    print(\"Run episode{} with rewards {}\".format(i, np.sum(reward_arr)), end=\"\\r\")\n",
    "    reward_records.append(np.sum(reward_arr))\n",
    "\n",
    "    # Train parameters\n",
    "    with tf.GradientTape() as tape:\n",
    "        states_arr_t = tf.convert_to_tensor(states_arr)\n",
    "        action_arr_t = tf.convert_to_tensor(action_arr)\n",
    "        logits_arr_t = tf.convert_to_tensor(logits_arr)\n",
    "        logprb_arr_t = tf.convert_to_tensor(logprb_arr)\n",
    "        rewcum_arr_t = tf.convert_to_tensor(rewcum_arr, dtype=tf.float32)\n",
    "        logits_new_t, value_new_t = policy_pi(states_arr_t, training=True)\n",
    "\n",
    "        # Get advantage\n",
    "        advantage_t = rewcum_arr_t - value_new_t\n",
    "\n",
    "        # Calculate P_new / P_old\n",
    "        logprb_new_t = -tf.nn.sparse_softmax_cross_entropy_with_logits(\n",
    "            logits=logits_new_t,\n",
    "            labels=tf.squeeze(action_arr_t, axis=1))\n",
    "        logprb_new_t = tf.expand_dims(logprb_new_t, 1)\n",
    "        prob_ratio = tf.exp(logprb_new_t - logprb_arr_t)\n",
    "\n",
    "        # Calculate KL-div for Categorical distribution\n",
    "        a0 = logits_arr_t - tf.reduce_max(logits_arr_t, axis=1, keepdims=True)\n",
    "        a1 = logits_new_t - tf.reduce_max(logits_new_t, axis=1, keepdims=True)\n",
    "        ea0 = tf.exp(a0)\n",
    "        ea1 = tf.exp(a1)\n",
    "        z0 = tf.reduce_sum(ea0, axis=1, keepdims=True)\n",
    "        z1 = tf.reduce_sum(ea1, axis=1, keepdims=True)\n",
    "        p0 = ea0 / z0\n",
    "        kl = tf.reduce_sum(\n",
    "            p0 * (a0 - tf.math.log(z0) - a1 + tf.math.log(z1)), axis=1)\n",
    "        kl = tf.expand_dims(kl, 1)\n",
    "\n",
    "        # Get value loss\n",
    "        v_loss = tf.math.square(value_new_t - rewcum_arr_t)\n",
    "\n",
    "        # Minimize loss\n",
    "        grad = tape.gradient(\n",
    "            -advantage_t * prob_ratio + kl_coeff * kl + vl_coeff * v_loss,\n",
    "            policy_pi.trainable_variables)\n",
    "        opt.apply_gradients(zip(grad, policy_pi.trainable_variables))\n",
    "\n",
    "    # stop if reward mean > 195.0\n",
    "    reward_records_np = np.array(reward_records)\n",
    "    if np.average(reward_records_np[-50:]) > 195.0:\n",
    "        break\n",
    "\n",
    "print(\"\\nDone\")\n",
    "env.close()"
   ]
  },
  {
   "cell_type": "code",
   "execution_count": 5,
   "id": "every-appointment",
   "metadata": {},
   "outputs": [
    {
     "data": {
      "text/plain": [
       "[<matplotlib.lines.Line2D at 0x7f8c4591aac8>]"
      ]
     },
     "execution_count": 5,
     "metadata": {},
     "output_type": "execute_result"
    },
    {
     "data": {
      "image/png": "[encoded data removed]",
      "text/plain": [
       "<Figure size 432x288 with 1 Axes>"
      ]
     },
     "metadata": {
      "needs_background": "light"
     },
     "output_type": "display_data"
    }
   ],
   "source": [
    "import matplotlib.pyplot as plt\n",
    "# Generate recent 50 interval average\n",
    "reward_records_np = np.array(reward_records)\n",
    "average_reward = []\n",
    "for idx in range(len(reward_records)):\n",
    "    avg_list = np.empty(shape=(1,), dtype=int)\n",
    "    if idx < 50:\n",
    "        avg_list = reward_records_np[:idx+1]\n",
    "    else:\n",
    "        avg_list = reward_records_np[idx-49:idx+1]\n",
    "    average_reward.append(np.average(avg_list))\n",
    "plt.plot(reward_records)\n",
    "plt.plot(average_reward)"
   ]
  },
  {
   "cell_type": "code",
   "execution_count": null,
   "id": "e33556ba",
   "metadata": {},
   "outputs": [],
   "source": []
  }
 ],
 "metadata": {
  "kernelspec": {
   "display_name": "Python 3",
   "language": "python",
   "name": "python3"
  },
  "language_info": {
   "codemirror_mode": {
    "name": "ipython",
    "version": 3
   },
   "file_extension": ".py",
   "mimetype": "text/x-python",
   "name": "python",
   "nbconvert_exporter": "python",
   "pygments_lexer": "ipython3",
   "version": "3.6.9"
  }
 },
 "nbformat": 4,
 "nbformat_minor": 5
}
