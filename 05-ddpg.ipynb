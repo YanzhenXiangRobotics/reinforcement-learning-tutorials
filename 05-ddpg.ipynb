{
 "cells": [
  {
   "cell_type": "markdown",
   "id": "recent-bunch",
   "metadata": {},
   "source": [
    "# DDPG (Deep Deterministic Policy Gradient)\n",
    "\n",
    "Until now, we applied [policy gradient (on-policy)](./02-policy-gradient.ipynb) in order to handle continuos spaces. (This method then leads to modern [PPO algorithm](./04-ppo.ipynb).)<br>\n",
    "DDPG (Deep Deterministic Policy Gradient) also apply policy gradient and use Actor-Critic architecture, but it's \"deterministic\" and **off-policy**, unlike policy gradient discussed in above.\n",
    "\n",
    "After I have introduced DDPG in this notebook, next I'll proceed to more advanced off-policy algorithm, SAC.\n",
    "\n",
    "*(back to [index](https://github.com/tsmatz/reinforcement-learning-tutorials/))*"
   ]
  },
  {
   "cell_type": "code",
   "execution_count": null,
   "id": "49fc83ba",
   "metadata": {},
   "outputs": [],
   "source": [
    "!pip install numpy tensorflow==2.4 matplotlib"
   ]
  },
  {
   "cell_type": "code",
   "execution_count": 1,
   "id": "aa81765d",
   "metadata": {},
   "outputs": [],
   "source": [
    "import random\n",
    "import numpy as np\n",
    "import tensorflow as tf"
   ]
  },
  {
   "cell_type": "markdown",
   "id": "126dd724",
   "metadata": {},
   "source": [
    "Because DDPG cannot operate discrete action space, and here we then use custom CartPole implementation for continuous action space.<br>\n",
    "The shape of action space in this example is ```Box(low=-1.0, high=1.0, shape=(1,), dtype=np.float32)```."
   ]
  },
  {
   "cell_type": "code",
   "execution_count": 2,
   "id": "2c8bc368",
   "metadata": {},
   "outputs": [],
   "source": [
    "from util.cartpole import CartPole\n",
    "env = CartPole()"
   ]
  },
  {
   "cell_type": "markdown",
   "id": "852a1a1e",
   "metadata": {},
   "source": [
    "We will start with the following equation (Bellman equation) discussed in [Q-Learning](./01-q-learning.ipynb) :\n",
    "\n",
    "$$ Q^{*}(s_t,a_t) = r_t + \\gamma \\max_a{Q(s_{t+1},a)} \\;\\;\\;\\;\\;\\; (1)$$\n",
    "\n",
    "where $ Q^{*} $ means the optimal $ Q $ value.\n",
    "\n",
    "Now we consider Q-network $ Q_{\\phi} $ where $\\phi$ is parameters.<br>\n",
    "To optimize the equation (1), we should find $\\phi$ to minimize the following loss $L$ for tuples $ (s_t, a_t, r_t, s_{t+1}, d_t) $.\n",
    "\n",
    "$$ L = E\\left[ \\left( Q_{\\phi}(s_t, a_t) - \\left( r_t + \\gamma (d_t - 1) \\max_a{Q_{\\phi}(s_{t+1},a)} \\right) \\right)^2 \\right] \\;\\;\\;\\;\\;\\; (2)$$\n",
    "\n",
    "where $d_t = 1$ if the episode is done, and $0$ otherwise.\n",
    "\n",
    "To make the above maximization $\\max_a Q_{\\phi}(s_{t+1}, a)$ work in continuous action space, we introduce the action policy $\\mu_{\\theta}(s)$, with which we'll find $\\theta$ to maximize $ Q_{\\phi}(s, \\mu_{\\theta}(s)) $.<br>\n",
    "The equation (2) will then be written as follows.\n",
    "\n",
    "$$ L = E\\left[ \\left( Q_{\\phi}(s_t, a_t) - \\left( r_t + \\gamma (d_t - 1) Q_{\\phi}(s_{t+1},\\mu_{\\theta}(s_{t+1})) \\right) \\right)^2 \\right] \\;\\;\\;\\;\\;\\; (3) $$\n",
    "\n",
    "> Note : As you will find, this is again based on [Actor-Critic method](./03-actor-critic.ipynb) which separates policy and value evaluation in algorithm.\n",
    "\n",
    "Please take care for the difference between this policy $\\mu_{\\theta}(s)$ and a policy used in [on-policy](./02-policy-gradient.ipynb). Here $\\mu_{\\theta}(s)$ is deterministic and it doesn't care how the actions are selected, unlike $ P(a | \\pi_\\theta (s)) $ in on-policy methods. (This is because DDPG is \"deterministic\" and off-policy.)\n",
    "\n",
    "To make the minimization (2) stable, we also introduce the separated parameters $\\phi^{\\prime}$ and $\\theta^{\\prime}$ (called **target**) as follows.\n",
    "\n",
    "$$ L = E\\left[ \\left( Q_{\\phi}(s_t, a_t) - \\left( r_t + \\gamma (d_t - 1) Q_{{\\phi}^{\\prime}}(s_{t+1},\\mu_{\\theta^{\\prime}}(s_{t+1})) \\right) \\right)^2 \\right] \\;\\;\\;\\;\\;\\; (4) $$\n",
    "\n",
    "And these parameters are delayed with coefficient parameter (hyper-parameter) $ \\tau $ (which is near 0) after each training.\n",
    "\n",
    "$ \\phi^{\\prime} = \\tau \\phi + (1-\\tau) \\phi^{\\prime} $\n",
    "\n",
    "$ \\theta^{\\prime} = \\tau \\theta + (1-\\tau) \\theta^{\\prime} $\n",
    "\n",
    "To summarize algorithm :\n",
    "\n",
    "- Collect tuples $ (s_t, a_t, r_t, s_{t+1}, d_t) $\n",
    "- Optimize $ \\phi $ to minimize $L$ in (4)\n",
    "- Optimize $ \\theta $ to maximize $Q_{\\phi}(s, \\mu_{\\theta}(s))$\n",
    "- Update target parameters as follows\n",
    "    - $ \\phi^{\\prime} = \\tau \\phi + (1-\\tau) \\phi^{\\prime} $\n",
    "    - $ \\theta^{\\prime} = \\tau \\theta + (1-\\tau) \\theta^{\\prime} $"
   ]
  },
  {
   "cell_type": "markdown",
   "id": "d32e178f",
   "metadata": {},
   "source": [
    "(1) Q-network"
   ]
  },
  {
   "cell_type": "code",
   "execution_count": 3,
   "id": "fad8678e",
   "metadata": {},
   "outputs": [],
   "source": [
    "# origin Q net (Q_phi)\n",
    "s_input_critic = tf.keras.layers.Input(shape=(4, ))\n",
    "a_input_critic = tf.keras.layers.Input(shape=(1, ))\n",
    "last_critic = tf.keras.layers.Concatenate()([s_input_critic, a_input_critic])\n",
    "last_critic = tf.keras.layers.Dense(64,activation='relu')(last_critic)\n",
    "output_critic = tf.keras.layers.Dense(1,activation=None)(last_critic)\n",
    "q_model = tf.keras.Model([s_input_critic, a_input_critic], output_critic)\n",
    "\n",
    "# target Q net (Q_phi')\n",
    "s_input_critic_tg = tf.keras.layers.Input(shape=(4, ))\n",
    "a_input_critic_tg = tf.keras.layers.Input(shape=(1, ))\n",
    "last_critic_tg = tf.keras.layers.Concatenate()([s_input_critic_tg, a_input_critic_tg])\n",
    "last_critic_tg = tf.keras.layers.Dense(64,activation='relu')(last_critic_tg)\n",
    "output_critic_tg = tf.keras.layers.Dense(1,activation=None)(last_critic_tg)\n",
    "q_tg_model = tf.keras.Model([s_input_critic_tg, a_input_critic_tg], output_critic_tg)"
   ]
  },
  {
   "cell_type": "markdown",
   "id": "d63d556d",
   "metadata": {},
   "source": [
    "(2) Policy network ($\\mu$)"
   ]
  },
  {
   "cell_type": "code",
   "execution_count": 4,
   "id": "0c8e76f8",
   "metadata": {},
   "outputs": [],
   "source": [
    "# origin policy net (mu_theta)\n",
    "s_input_actor = tf.keras.layers.Input(shape=(4, ))\n",
    "last_actor = tf.keras.layers.Dense(64,activation='relu')(s_input_actor)\n",
    "output_actor = tf.keras.layers.Dense(1,activation='tanh')(last_actor)\n",
    "mu_model = tf.keras.Model([s_input_actor], output_actor)\n",
    "\n",
    "# target policy net (mu_theta')\n",
    "s_input_actor_tg = tf.keras.layers.Input(shape=(4, ))\n",
    "last_actor_tg = tf.keras.layers.Dense(64,activation='relu')(s_input_actor_tg)\n",
    "output_actor_tg = tf.keras.layers.Dense(1,activation='tanh')(last_actor_tg)\n",
    "mu_tg_model = tf.keras.Model([s_input_actor_tg], output_actor_tg)"
   ]
  },
  {
   "cell_type": "markdown",
   "id": "448fb21a",
   "metadata": {},
   "source": [
    "(3) Function to optimize network parameters $\\phi, \\theta$"
   ]
  },
  {
   "cell_type": "code",
   "execution_count": 5,
   "id": "c19bd68e",
   "metadata": {},
   "outputs": [],
   "source": [
    "gamma = 0.99\n",
    "opt = tf.keras.optimizers.Adam(learning_rate=0.0005)\n",
    "\n",
    "def optimize(states, actions, rewards, next_states, dones):\n",
    "    states_t      = tf.convert_to_tensor(states)\n",
    "    actions_t     = tf.convert_to_tensor(actions)\n",
    "    rewards_t     = tf.convert_to_tensor(rewards)\n",
    "    next_states_t = tf.convert_to_tensor(next_states)\n",
    "    dones_t       = tf.convert_to_tensor(dones)\n",
    "\n",
    "    # critic loss\n",
    "    with tf.GradientTape() as tape:\n",
    "        q_t = q_model([states_t, actions_t], training=True)\n",
    "        next_mu_tg_t = mu_tg_model([next_states_t], training=True)\n",
    "        next_q_tg_t = q_tg_model([next_states_t, next_mu_tg_t], training=True)\n",
    "        q_tg_t = rewards_t + gamma * (1.0 - dones_t) * next_q_tg_t\n",
    "        critic_loss_suqares_t = tf.math.square(q_t - q_tg_t)\n",
    "        critic_loss_t = tf.reduce_mean(critic_loss_suqares_t)\n",
    "\n",
    "    # optimize critic\n",
    "    grad_q = tape.gradient(\n",
    "        critic_loss_t,\n",
    "        q_model.trainable_variables)\n",
    "    opt.apply_gradients(zip(grad_q, q_model.trainable_variables))\n",
    "\n",
    "    # actor loss\n",
    "    with tf.GradientTape() as tape:\n",
    "        mu_t = mu_model([states_t], training=True)\n",
    "        q_t_max = q_model([states_t, mu_t], training=True)\n",
    "        actor_loss_t = -tf.reduce_mean(q_t_max)\n",
    "\n",
    "    # optimize actor\n",
    "    grad_a = tape.gradient(\n",
    "        actor_loss_t,\n",
    "        mu_model.trainable_variables)\n",
    "    opt.apply_gradients(zip(grad_a, mu_model.trainable_variables))"
   ]
  },
  {
   "cell_type": "markdown",
   "id": "b3c8100e",
   "metadata": {},
   "source": [
    "(4) Function to update target parameters $\\phi^{\\prime}, \\theta^{\\prime}$"
   ]
  },
  {
   "cell_type": "code",
   "execution_count": 6,
   "id": "10bb910b",
   "metadata": {},
   "outputs": [],
   "source": [
    "tau = 0.002\n",
    "\n",
    "def update_target():\n",
    "    for var, var_target in zip(q_model.variables, q_tg_model.variables):\n",
    "        var_target.assign(tau * var + (1.0 - tau) * var_target)\n",
    "    for var, var_target in zip(mu_model.variables, mu_tg_model.variables):\n",
    "        var_target.assign(tau * var + (1.0 - tau) * var_target)"
   ]
  },
  {
   "cell_type": "markdown",
   "id": "ddc1f7f1",
   "metadata": {},
   "source": [
    "(5) Replay buffer\n",
    "\n",
    "In on-policy architecture, we fed the sequential samples (trajectory) for each training batch. (See [here](./02-policy-gradient.ipynb).)<br>\n",
    "However, to prevent from learning only for recent experiences, we store the past experience of tuples $ (s_t, a_t, r_t, s_{t+1}, d_t) $ in buffer (called \"replay buffer\") and pick up the randomized samples for batch training in DDPG."
   ]
  },
  {
   "cell_type": "code",
   "execution_count": 7,
   "id": "1172351c",
   "metadata": {},
   "outputs": [],
   "source": [
    "class replayBuffer:\n",
    "    def __init__(self, buffer_size: int):\n",
    "        self.buffer_size = buffer_size\n",
    "        self.buffer = []\n",
    "        self._next_idx = 0\n",
    "\n",
    "    def add(self, item):\n",
    "        if len(self.buffer) > self._next_idx:\n",
    "            self.buffer[self._next_idx] = item\n",
    "        else:\n",
    "            self.buffer.append(item)\n",
    "        if self._next_idx == self.buffer_size - 1:\n",
    "            self._next_idx = 0\n",
    "        else:\n",
    "            self._next_idx = self._next_idx + 1\n",
    "\n",
    "    def sample(self, batch_size):\n",
    "        indices = [random.randint(0, len(self.buffer) - 1) for _ in range(batch_size)]\n",
    "        states   = [self.buffer[i][0] for i in indices]\n",
    "        actions  = [[self.buffer[i][1]] for i in indices]\n",
    "        rewards  = [[self.buffer[i][2]] for i in indices]\n",
    "        n_states = [self.buffer[i][3] for i in indices]\n",
    "        dones    = [[self.buffer[i][4]] for i in indices]\n",
    "        return states, actions, rewards, n_states, dones\n",
    "\n",
    "    def length(self):\n",
    "        return len(self.buffer)\n",
    "\n",
    "buffer = replayBuffer(20000)"
   ]
  },
  {
   "cell_type": "markdown",
   "id": "4292f941",
   "metadata": {},
   "source": [
    "(6) Noise for exploration\n",
    "\n",
    "As I mentioned above, the policy $\\mu_{\\theta}(s)$ is deterministic and it doesn't care how the actions are selected. In order for this reason, the noise will be added for exploration to pick up samples in episode's trials. (If not, this will stuck in the same values forever.)<br>\n",
    "In DDPG, the following noise (so called [Ornstein-Uhlenbeck](https://en.wikipedia.org/wiki/Ornstein%E2%80%93Uhlenbeck_process) noise) is used."
   ]
  },
  {
   "cell_type": "code",
   "execution_count": 8,
   "id": "6e192851",
   "metadata": {},
   "outputs": [],
   "source": [
    "\"\"\"\n",
    "Ornstein-Uhlenbeck noise implemented by OpenAI\n",
    "Copied from https://github.com/openai/baselines/blob/master/baselines/ddpg/noise.py\n",
    "\"\"\"\n",
    "class OrnsteinUhlenbeckActionNoise:\n",
    "    def __init__(self, mu, sigma, theta=.15, dt=1e-2, x0=None):\n",
    "        self.theta = theta\n",
    "        self.mu = mu\n",
    "        self.sigma = sigma\n",
    "        self.dt = dt\n",
    "        self.x0 = x0\n",
    "        self.reset()\n",
    "\n",
    "    def __call__(self):\n",
    "        x = self.x_prev + self.theta * (self.mu - self.x_prev) * self.dt + self.sigma * np.sqrt(self.dt) * np.random.normal(size=self.mu.shape)\n",
    "        self.x_prev = x\n",
    "        return x\n",
    "\n",
    "    def reset(self):\n",
    "        self.x_prev = self.x0 if self.x0 is not None else np.zeros_like(self.mu)\n",
    "\n",
    "ou_action_noise = OrnsteinUhlenbeckActionNoise(mu=np.zeros(1), sigma=np.ones(1) * 0.05)\n",
    "\n",
    "# pick up action with Ornstein-Uhlenbeck noise\n",
    "def pick_sample(s):\n",
    "    action_det = mu_model(tf.cast(np.array([s]), tf.float32))\n",
    "    action_det = tf.squeeze(action_det, axis=1)\n",
    "    noise = ou_action_noise()\n",
    "    action = action_det.numpy() + noise\n",
    "    action = np.clip(action, -1.0, 1.0)\n",
    "    return float(action.item())"
   ]
  },
  {
   "cell_type": "markdown",
   "id": "f3b19a01",
   "metadata": {},
   "source": [
    "(7) Now let's put it all together !"
   ]
  },
  {
   "cell_type": "code",
   "execution_count": 9,
   "id": "fe030199",
   "metadata": {},
   "outputs": [
    {
     "name": "stdout",
     "output_type": "stream",
     "text": [
      "Run episode1309 with rewards 200.0\n",
      "Done\n"
     ]
    }
   ],
   "source": [
    "batch_size = 250\n",
    "\n",
    "reward_records = []\n",
    "for i in range(1500):\n",
    "    # Run episode till done\n",
    "    s = env.reset()\n",
    "    done = False\n",
    "    cum_reward = 0\n",
    "    while not done:\n",
    "        a = pick_sample(s)\n",
    "        s_next, r, done, _ = env.step(a)\n",
    "        buffer.add([s, a, r, s_next, float(done)])\n",
    "        cum_reward += r\n",
    "        if buffer.length() >= batch_size:\n",
    "            states, actions, rewards, n_states, dones = buffer.sample(batch_size)\n",
    "            optimize(states, actions, rewards, n_states, dones)\n",
    "            update_target()\n",
    "        s = s_next\n",
    "\n",
    "    # Output total rewards in episode (max 200)\n",
    "    print(\"Run episode{} with rewards {}\".format(i, cum_reward), end=\"\\r\")\n",
    "    reward_records.append(cum_reward)\n",
    "\n",
    "    # stop if reward mean > 195.0\n",
    "    reward_records_np = np.array(reward_records)\n",
    "    if np.average(reward_records_np[-50:]) > 195.0:\n",
    "        break\n",
    "\n",
    "print(\"\\nDone\")"
   ]
  },
  {
   "cell_type": "code",
   "execution_count": 10,
   "id": "2e2f3ddc",
   "metadata": {},
   "outputs": [
    {
     "data": {
      "text/plain": [
       "[<matplotlib.lines.Line2D at 0x7fa2f6094ef0>]"
      ]
     },
     "execution_count": 10,
     "metadata": {},
     "output_type": "execute_result"
    },
    {
     "data": {
      "image/png": "[encoded data removed]",
      "text/plain": [
       "<Figure size 432x288 with 1 Axes>"
      ]
     },
     "metadata": {
      "needs_background": "light"
     },
     "output_type": "display_data"
    }
   ],
   "source": [
    "import matplotlib.pyplot as plt\n",
    "# Generate recent 50 interval average\n",
    "reward_records_np = np.array(reward_records)\n",
    "average_reward = []\n",
    "for idx in range(len(reward_records)):\n",
    "    avg_list = np.empty(shape=(1,), dtype=int)\n",
    "    if idx < 50:\n",
    "        avg_list = reward_records_np[:idx+1]\n",
    "    else:\n",
    "        avg_list = reward_records_np[idx-49:idx+1]\n",
    "    average_reward.append(np.average(avg_list))\n",
    "plt.plot(reward_records)\n",
    "plt.plot(average_reward)"
   ]
  },
  {
   "cell_type": "markdown",
   "id": "830f3f20",
   "metadata": {},
   "source": [
    "## [Optional] Clipped double-Q learning (Twin-Q)\n",
    "\n",
    "In advanced algorithms, such as TD3 (Twin Delayed DDPG), 2 Q-networks - $ Q_{\\phi_1}(s, a), Q_{\\phi_2}(s, a) $ - and corresponding 2 target networks - $ Q_{\\phi_1^{\\prime}}(s, a), Q_{\\phi_2^{\\prime}}(s, a) $ - are used to optimize.<br>\n",
    "Potentially this mechanism will mitigate the risk for overestimation in Q-function\n",
    "\n",
    "In this double-Q algorithms, we optimize parameters as follows :\n",
    "\n",
    "- Optimize $ \\phi_1 $ to minimize $ E\\left[ \\left( Q_{\\phi_1}(s_t, a_t) - \\left( r_t + \\gamma (d_t - 1) \\min_{i=1,2} Q_{{\\phi_i}^{\\prime}}(s_{t+1},\\mu_{\\theta^{\\prime}}(s_{t+1})) \\right) \\right)^2 \\right] $\n",
    "- Optimize $ \\phi_2 $ to minimize $ E\\left[ \\left( Q_{\\phi_2}(s_t, a_t) - \\left( r_t + \\gamma (d_t - 1) \\min_{i=1,2} Q_{{\\phi_i}^{\\prime}}(s_{t+1},\\mu_{\\theta^{\\prime}}(s_{t+1})) \\right) \\right)^2 \\right] $\n",
    "- Optimize $ \\theta $ to maximize $Q_{\\phi_1}(s, \\mu_{\\theta}(s))$\n",
    "\n",
    "And update target parameters as :\n",
    "\n",
    "- $ \\phi_1^{\\prime} = \\tau \\phi_1 + (1-\\tau) \\phi_1^{\\prime} $\n",
    "- $ \\phi_2^{\\prime} = \\tau \\phi_2 + (1-\\tau) \\phi_2^{\\prime} $\n",
    "- $ \\theta^{\\prime} = \\tau \\theta + (1-\\tau) \\theta^{\\prime} $"
   ]
  },
  {
   "cell_type": "markdown",
   "id": "3d36d19c",
   "metadata": {},
   "source": [
    "(1) First, regenerate Q-network and policy network as follows."
   ]
  },
  {
   "cell_type": "code",
   "execution_count": 11,
   "id": "designing-three",
   "metadata": {},
   "outputs": [],
   "source": [
    "# origin Q net 1 (Q_phi1)\n",
    "s_input_critic1 = tf.keras.layers.Input(shape=(4, ))\n",
    "a_input_critic1 = tf.keras.layers.Input(shape=(1, ))\n",
    "last_critic1 = tf.keras.layers.Concatenate()([s_input_critic1, a_input_critic1])\n",
    "last_critic1 = tf.keras.layers.Dense(64,activation='relu')(last_critic1)\n",
    "output_critic1 = tf.keras.layers.Dense(1,activation=None)(last_critic1)\n",
    "q_model1 = tf.keras.Model([s_input_critic1, a_input_critic1], output_critic1)\n",
    "\n",
    "# origin Q net 2 (Q_phi2)\n",
    "s_input_critic2 = tf.keras.layers.Input(shape=(4, ))\n",
    "a_input_critic2 = tf.keras.layers.Input(shape=(1, ))\n",
    "last_critic2 = tf.keras.layers.Concatenate()([s_input_critic2, a_input_critic2])\n",
    "last_critic2 = tf.keras.layers.Dense(64,activation='relu')(last_critic2)\n",
    "output_critic2 = tf.keras.layers.Dense(1,activation=None)(last_critic2)\n",
    "q_model2 = tf.keras.Model([s_input_critic2, a_input_critic2], output_critic2)\n",
    "\n",
    "# target Q net 1 (Q_phi1')\n",
    "s_input_critic_tg1 = tf.keras.layers.Input(shape=(4, ))\n",
    "a_input_critic_tg1 = tf.keras.layers.Input(shape=(1, ))\n",
    "last_critic_tg1 = tf.keras.layers.Concatenate()([s_input_critic_tg1, a_input_critic_tg1])\n",
    "last_critic_tg1 = tf.keras.layers.Dense(64,activation='relu')(last_critic_tg1)\n",
    "output_critic_tg1 = tf.keras.layers.Dense(1,activation=None)(last_critic_tg1)\n",
    "q_tg_model1 = tf.keras.Model([s_input_critic_tg1, a_input_critic_tg1], output_critic_tg1)\n",
    "\n",
    "# target Q net 2 (Q_phi2')\n",
    "s_input_critic_tg2 = tf.keras.layers.Input(shape=(4, ))\n",
    "a_input_critic_tg2 = tf.keras.layers.Input(shape=(1, ))\n",
    "last_critic_tg2 = tf.keras.layers.Concatenate()([s_input_critic_tg2, a_input_critic_tg2])\n",
    "last_critic_tg2 = tf.keras.layers.Dense(64,activation='relu')(last_critic_tg2)\n",
    "output_critic_tg2 = tf.keras.layers.Dense(1,activation=None)(last_critic_tg2)\n",
    "q_tg_model2 = tf.keras.Model([s_input_critic_tg2, a_input_critic_tg2], output_critic_tg2)"
   ]
  },
  {
   "cell_type": "code",
   "execution_count": 12,
   "id": "a7d87d7e",
   "metadata": {},
   "outputs": [],
   "source": [
    "# origin policy net (mu_theta)\n",
    "s_input_actor = tf.keras.layers.Input(shape=(4, ))\n",
    "last_actor = tf.keras.layers.Dense(64,activation='relu')(s_input_actor)\n",
    "output_actor = tf.keras.layers.Dense(1,activation='tanh')(last_actor)\n",
    "mu_model = tf.keras.Model([s_input_actor], output_actor)\n",
    "\n",
    "# target policy net (mu_theta')\n",
    "s_input_actor_tg = tf.keras.layers.Input(shape=(4, ))\n",
    "last_actor_tg = tf.keras.layers.Dense(64,activation='relu')(s_input_actor_tg)\n",
    "output_actor_tg = tf.keras.layers.Dense(1,activation='tanh')(last_actor_tg)\n",
    "mu_tg_model = tf.keras.Model([s_input_actor_tg], output_actor_tg)"
   ]
  },
  {
   "cell_type": "markdown",
   "id": "7a6336f2",
   "metadata": {},
   "source": [
    "(2) Regenerate optimize function."
   ]
  },
  {
   "cell_type": "code",
   "execution_count": 13,
   "id": "a6851f75",
   "metadata": {},
   "outputs": [],
   "source": [
    "opt = tf.keras.optimizers.Adam(learning_rate=0.0005)\n",
    "\n",
    "def optimize(states, actions, rewards, next_states, dones):\n",
    "    states_t      = tf.convert_to_tensor(states)\n",
    "    actions_t     = tf.convert_to_tensor(actions)\n",
    "    rewards_t     = tf.convert_to_tensor(rewards)\n",
    "    next_states_t = tf.convert_to_tensor(next_states)\n",
    "    dones_t       = tf.convert_to_tensor(dones)\n",
    "\n",
    "    # critic loss (Q-network 1)\n",
    "    with tf.GradientTape() as tape:\n",
    "        next_mu_tg_t = mu_tg_model([next_states_t], training=True)\n",
    "        next_q_tg_t1 = q_tg_model1([next_states_t, next_mu_tg_t], training=True)\n",
    "        next_q_tg_t2 = q_tg_model2([next_states_t, next_mu_tg_t], training=True)\n",
    "        next_q_tg_t = tf.minimum(next_q_tg_t1, next_q_tg_t2)\n",
    "        q_tg_t = rewards_t + gamma * (1.0 - dones_t) * next_q_tg_t\n",
    "\n",
    "        q_t1 = q_model1([states_t, actions_t], training=True)\n",
    "        critic_loss_suqares_t1 = tf.math.square(q_t1 - q_tg_t)\n",
    "        critic_loss_t1 = tf.reduce_mean(critic_loss_suqares_t1)\n",
    "\n",
    "    # optimize critic (Q-network 1)\n",
    "    grad_q1 = tape.gradient(\n",
    "        critic_loss_t1,\n",
    "        q_model1.trainable_variables)\n",
    "    opt.apply_gradients(zip(grad_q1, q_model1.trainable_variables))\n",
    "\n",
    "    # critic loss (Q-network 2)\n",
    "    with tf.GradientTape() as tape:\n",
    "        next_mu_tg_t = mu_tg_model([next_states_t], training=True)\n",
    "        next_q_tg_t1 = q_tg_model1([next_states_t, next_mu_tg_t], training=True)\n",
    "        next_q_tg_t2 = q_tg_model2([next_states_t, next_mu_tg_t], training=True)\n",
    "        next_q_tg_t = tf.minimum(next_q_tg_t1, next_q_tg_t2)\n",
    "        q_tg_t = rewards_t + gamma * (1.0 - dones_t) * next_q_tg_t\n",
    "\n",
    "        q_t2 = q_model2([states_t, actions_t], training=True)\n",
    "        critic_loss_suqares_t2 = tf.math.square(q_t2 - q_tg_t)\n",
    "        critic_loss_t2 = tf.reduce_mean(critic_loss_suqares_t2)\n",
    "\n",
    "    # optimize critic (Q-network 2)\n",
    "    grad_q2 = tape.gradient(\n",
    "        critic_loss_t2,\n",
    "        q_model2.trainable_variables)\n",
    "    opt.apply_gradients(zip(grad_q2, q_model2.trainable_variables))\n",
    "\n",
    "    # actor loss\n",
    "    with tf.GradientTape() as tape:\n",
    "        mu_t = mu_model([states_t], training=True)\n",
    "        q_t_max = q_model1([states_t, mu_t], training=True)\n",
    "        actor_loss_t = -tf.reduce_mean(q_t_max)\n",
    "\n",
    "    # optimize actor\n",
    "    grad_a = tape.gradient(\n",
    "        actor_loss_t,\n",
    "        mu_model.trainable_variables)\n",
    "    opt.apply_gradients(zip(grad_a, mu_model.trainable_variables))"
   ]
  },
  {
   "cell_type": "markdown",
   "id": "6f2b612e",
   "metadata": {},
   "source": [
    "(3) Regenerate update target's params function."
   ]
  },
  {
   "cell_type": "code",
   "execution_count": 14,
   "id": "0d5207e3",
   "metadata": {},
   "outputs": [],
   "source": [
    "def update_target():\n",
    "    for var, var_target in zip(q_model1.variables, q_tg_model1.variables):\n",
    "        var_target.assign(tau * var + (1.0 - tau) * var_target)\n",
    "    for var, var_target in zip(q_model2.variables, q_tg_model2.variables):\n",
    "        var_target.assign(tau * var + (1.0 - tau) * var_target)\n",
    "    for var, var_target in zip(mu_model.variables, mu_tg_model.variables):\n",
    "        var_target.assign(tau * var + (1.0 - tau) * var_target)"
   ]
  },
  {
   "cell_type": "markdown",
   "id": "c4a631fe",
   "metadata": {},
   "source": [
    "(4) Let's start training again !"
   ]
  },
  {
   "cell_type": "code",
   "execution_count": 15,
   "id": "11ae9c8f",
   "metadata": {},
   "outputs": [
    {
     "name": "stdout",
     "output_type": "stream",
     "text": [
      "Run episode1263 with rewards 200.0\n",
      "Done\n"
     ]
    }
   ],
   "source": [
    "# reset noise\n",
    "ou_action_noise = OrnsteinUhlenbeckActionNoise(mu=np.zeros(1), sigma=np.ones(1) * 0.05)\n",
    "\n",
    "# reset buffer\n",
    "buffer = replayBuffer(50000)\n",
    "\n",
    "# start training\n",
    "batch_size = 250\n",
    "reward_records = []\n",
    "for i in range(5000):\n",
    "    # Run episode till done\n",
    "    s = env.reset()\n",
    "    done = False\n",
    "    cum_reward = 0\n",
    "    while not done:\n",
    "        a = pick_sample(s)\n",
    "        s_next, r, done, _ = env.step(a)\n",
    "        buffer.add([s, a, r, s_next, float(done)])\n",
    "        cum_reward += r\n",
    "        if buffer.length() >= batch_size:\n",
    "            states, actions, rewards, n_states, dones = buffer.sample(batch_size)\n",
    "            optimize(states, actions, rewards, n_states, dones)\n",
    "            update_target()\n",
    "        s = s_next\n",
    "\n",
    "    # Output total rewards in episode (max 200)\n",
    "    print(\"Run episode{} with rewards {}\".format(i, cum_reward), end=\"\\r\")\n",
    "    reward_records.append(cum_reward)\n",
    "\n",
    "    # stop if reward mean > 195.0\n",
    "    reward_records_np = np.array(reward_records)\n",
    "    if np.average(reward_records_np[-50:]) > 195.0:\n",
    "        break\n",
    "\n",
    "print(\"\\nDone\")"
   ]
  },
  {
   "cell_type": "code",
   "execution_count": 16,
   "id": "4c7d9fd5",
   "metadata": {},
   "outputs": [
    {
     "data": {
      "text/plain": [
       "[<matplotlib.lines.Line2D at 0x7fa2de7024e0>]"
      ]
     },
     "execution_count": 16,
     "metadata": {},
     "output_type": "execute_result"
    },
    {
     "data": {
      "image/png": "[encoded data removed]",
      "text/plain": [
       "<Figure size 432x288 with 1 Axes>"
      ]
     },
     "metadata": {
      "needs_background": "light"
     },
     "output_type": "display_data"
    }
   ],
   "source": [
    "import matplotlib.pyplot as plt\n",
    "# Generate recent 50 interval average\n",
    "reward_records_np = np.array(reward_records)\n",
    "average_reward = []\n",
    "for idx in range(len(reward_records)):\n",
    "    avg_list = np.empty(shape=(1,), dtype=int)\n",
    "    if idx < 50:\n",
    "        avg_list = reward_records_np[:idx+1]\n",
    "    else:\n",
    "        avg_list = reward_records_np[idx-49:idx+1]\n",
    "    average_reward.append(np.average(avg_list))\n",
    "plt.plot(reward_records)\n",
    "plt.plot(average_reward)"
   ]
  }
 ],
 "metadata": {
  "kernelspec": {
   "display_name": "Python 3",
   "language": "python",
   "name": "python3"
  },
  "language_info": {
   "codemirror_mode": {
    "name": "ipython",
    "version": 3
   },
   "file_extension": ".py",
   "mimetype": "text/x-python",
   "name": "python",
   "nbconvert_exporter": "python",
   "pygments_lexer": "ipython3",
   "version": "3.6.9"
  }
 },
 "nbformat": 4,
 "nbformat_minor": 5
}
